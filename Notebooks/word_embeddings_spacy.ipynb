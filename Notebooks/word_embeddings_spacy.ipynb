{
  "cells": [
    {
      "cell_type": "markdown",
      "metadata": {
        "id": "HAB1i2YDjuo_"
      },
      "source": [
        "# Word Embeddings tutorial\n",
        "\n",
        "In this notebook I will go through word embeddings using deep learning, I will not train a new model I will use pre-trained ones as training a new one will cost a lot and the pretrained word embeddings are usually trained on large and diverse text corpora, often containing vast amounts of data. This means they have already learned a lot about the semantic relationships and meanings of words. By using these embeddings, you can leverage this valuable knowledge as a starting point for your specific NLP task.\n",
        "\n",
        "I will be using `spacy` in this tutorial to demonstrate word embeddings"
      ]
    },
    {
      "cell_type": "markdown",
      "metadata": {
        "id": "R3wN_uKNjupF"
      },
      "source": [
        "Update pip tools and install spacy\n",
        "\n",
        "`pip install -U pip setuptools wheel`\n",
        "\n",
        "`pip install -U spacy`\n",
        "\n",
        "Download the English model\n",
        "\n",
        "`python -m spacy download en_core_web_md\n",
        "`"
      ]
    },
    {
      "cell_type": "code",
      "execution_count": 25,
      "metadata": {
        "ExecuteTime": {
          "end_time": "2021-11-07T22:19:17.436827Z",
          "start_time": "2021-11-07T22:19:02.594935Z"
        },
        "id": "NVK-VDSjjupH"
      },
      "outputs": [],
      "source": [
        "# Import the spaCy library for natural language processing\n",
        "import spacy\n",
        "\n",
        "# Import the pandas library for data manipulation and analysis\n",
        "import pandas as pd\n",
        "\n",
        "# Import the seaborn library for data visualization\n",
        "import seaborn as sns\n",
        "\n",
        "# Import cosine_similarity and cosine_distances functions for measuring similarity\n",
        "from sklearn.metrics.pairwise import cosine_similarity, cosine_distances\n",
        "\n",
        "# Create a color map using seaborn for data visualization\n",
        "cm = sns.light_palette(\"blue\", as_cmap=True)\n",
        "\n",
        "# Load the English spaCy model for text processing\n",
        "nlp = spacy.load('en_core_web_md')\n"
      ]
    },
    {
      "cell_type": "code",
      "execution_count": 26,
      "metadata": {
        "ExecuteTime": {
          "end_time": "2021-11-07T21:43:21.214084Z",
          "start_time": "2021-11-07T21:43:21.069549Z"
        },
        "id": "vZVObWHjjupI"
      },
      "outputs": [],
      "source": [
        "# Define a list of words for which we want to obtain word vectors\n",
        "words = ['cat', 'dog', 'car', 'bird', 'eagle','fly','drink','drive']\n",
        "\n",
        "# Create a list of word vectors by processing each word using spaCy's 'en_core_web_sm' model\n",
        "vectors = [nlp(word).vector for word in words]\n"
      ]
    },
    {
      "cell_type": "code",
      "source": [
        "import numpy as np\n",
        "\n",
        "# Calculate the shape of the vectors list\n",
        "shape_of_vectors = np.array(vectors).shape\n",
        "\n",
        "# Print the shape\n",
        "print(\"Shape of vectors list:\", shape_of_vectors)"
      ],
      "metadata": {
        "colab": {
          "base_uri": "https://localhost:8080/"
        },
        "id": "D6EM-350nF7P",
        "outputId": "ed4b642b-3b6f-47f8-abc9-528923befd0b"
      },
      "execution_count": 27,
      "outputs": [
        {
          "output_type": "stream",
          "name": "stdout",
          "text": [
            "Shape of vectors list: (8, 300)\n"
          ]
        }
      ]
    },
    {
      "cell_type": "markdown",
      "source": [
        " The output `(8, 300)`,  indicates that I have a list of 8 word vectors, and each word vector has a dimensionality of 300. So, each word in this list is represented by a 300-dimensional embedding. Each dimension in the embedding space captures different aspects of the word's meaning or context, and these embeddings are typically learned during the training of the word embedding model."
      ],
      "metadata": {
        "id": "alULKcPBnszs"
      }
    },
    {
      "cell_type": "code",
      "execution_count": 28,
      "metadata": {
        "ExecuteTime": {
          "end_time": "2021-11-07T21:43:22.239978Z",
          "start_time": "2021-11-07T21:43:22.220166Z"
        },
        "colab": {
          "base_uri": "https://localhost:8080/",
          "height": 300
        },
        "id": "I_rNHVBAjupJ",
        "outputId": "2e329371-13bc-49bf-b8ae-54f9671682c9"
      },
      "outputs": [
        {
          "output_type": "execute_result",
          "data": {
            "text/plain": [
              "<pandas.io.formats.style.Styler at 0x7eadb2964e50>"
            ],
            "text/html": [
              "<style type=\"text/css\">\n",
              "#T_04b63_row0_col0, #T_04b63_row1_col1, #T_04b63_row2_col2, #T_04b63_row3_col3, #T_04b63_row4_col4, #T_04b63_row5_col5, #T_04b63_row6_col6, #T_04b63_row7_col7 {\n",
              "  background-color: #0000ff;\n",
              "  color: #f1f1f1;\n",
              "}\n",
              "#T_04b63_row0_col1 {\n",
              "  background-color: #2e2efd;\n",
              "  color: #f1f1f1;\n",
              "}\n",
              "#T_04b63_row0_col2, #T_04b63_row5_col6 {\n",
              "  background-color: #cfcff4;\n",
              "  color: #000000;\n",
              "}\n",
              "#T_04b63_row0_col3 {\n",
              "  background-color: #6f6ff9;\n",
              "  color: #f1f1f1;\n",
              "}\n",
              "#T_04b63_row0_col4 {\n",
              "  background-color: #9f9ff7;\n",
              "  color: #f1f1f1;\n",
              "}\n",
              "#T_04b63_row0_col5 {\n",
              "  background-color: #e7e7f3;\n",
              "  color: #000000;\n",
              "}\n",
              "#T_04b63_row0_col6 {\n",
              "  background-color: #c6c6f5;\n",
              "  color: #000000;\n",
              "}\n",
              "#T_04b63_row0_col7, #T_04b63_row1_col5, #T_04b63_row4_col2, #T_04b63_row4_col6, #T_04b63_row7_col0, #T_04b63_row7_col1, #T_04b63_row7_col3, #T_04b63_row7_col4 {\n",
              "  background-color: #f0f0f3;\n",
              "  color: #000000;\n",
              "}\n",
              "#T_04b63_row1_col0 {\n",
              "  background-color: #2929fd;\n",
              "  color: #f1f1f1;\n",
              "}\n",
              "#T_04b63_row1_col2 {\n",
              "  background-color: #aeaef6;\n",
              "  color: #000000;\n",
              "}\n",
              "#T_04b63_row1_col3 {\n",
              "  background-color: #8282f8;\n",
              "  color: #f1f1f1;\n",
              "}\n",
              "#T_04b63_row1_col4, #T_04b63_row3_col5 {\n",
              "  background-color: #adadf6;\n",
              "  color: #000000;\n",
              "}\n",
              "#T_04b63_row1_col6 {\n",
              "  background-color: #b6b6f6;\n",
              "  color: #000000;\n",
              "}\n",
              "#T_04b63_row1_col7 {\n",
              "  background-color: #d5d5f4;\n",
              "  color: #000000;\n",
              "}\n",
              "#T_04b63_row2_col0, #T_04b63_row4_col5 {\n",
              "  background-color: #babaf6;\n",
              "  color: #000000;\n",
              "}\n",
              "#T_04b63_row2_col1 {\n",
              "  background-color: #b0b0f6;\n",
              "  color: #000000;\n",
              "}\n",
              "#T_04b63_row2_col3 {\n",
              "  background-color: #cbcbf5;\n",
              "  color: #000000;\n",
              "}\n",
              "#T_04b63_row2_col4 {\n",
              "  background-color: #dedef4;\n",
              "  color: #000000;\n",
              "}\n",
              "#T_04b63_row2_col5 {\n",
              "  background-color: #ebebf3;\n",
              "  color: #000000;\n",
              "}\n",
              "#T_04b63_row2_col6 {\n",
              "  background-color: #cecef4;\n",
              "  color: #000000;\n",
              "}\n",
              "#T_04b63_row2_col7 {\n",
              "  background-color: #8181f8;\n",
              "  color: #f1f1f1;\n",
              "}\n",
              "#T_04b63_row3_col0 {\n",
              "  background-color: #6b6bfa;\n",
              "  color: #f1f1f1;\n",
              "}\n",
              "#T_04b63_row3_col1 {\n",
              "  background-color: #8d8df8;\n",
              "  color: #f1f1f1;\n",
              "}\n",
              "#T_04b63_row3_col2 {\n",
              "  background-color: #dbdbf4;\n",
              "  color: #000000;\n",
              "}\n",
              "#T_04b63_row3_col4, #T_04b63_row4_col3 {\n",
              "  background-color: #5a5afa;\n",
              "  color: #f1f1f1;\n",
              "}\n",
              "#T_04b63_row3_col6, #T_04b63_row6_col2 {\n",
              "  background-color: #d1d1f4;\n",
              "  color: #000000;\n",
              "}\n",
              "#T_04b63_row3_col7 {\n",
              "  background-color: #e8e8f3;\n",
              "  color: #000000;\n",
              "}\n",
              "#T_04b63_row4_col0 {\n",
              "  background-color: #9b9bf7;\n",
              "  color: #f1f1f1;\n",
              "}\n",
              "#T_04b63_row4_col1 {\n",
              "  background-color: #bfbff5;\n",
              "  color: #000000;\n",
              "}\n",
              "#T_04b63_row4_col7 {\n",
              "  background-color: #eaeaf3;\n",
              "  color: #000000;\n",
              "}\n",
              "#T_04b63_row5_col0 {\n",
              "  background-color: #c3c3f5;\n",
              "  color: #000000;\n",
              "}\n",
              "#T_04b63_row5_col1 {\n",
              "  background-color: #e6e6f3;\n",
              "  color: #000000;\n",
              "}\n",
              "#T_04b63_row5_col2, #T_04b63_row6_col5 {\n",
              "  background-color: #dedff4;\n",
              "  color: #000000;\n",
              "}\n",
              "#T_04b63_row5_col3 {\n",
              "  background-color: #9898f7;\n",
              "  color: #f1f1f1;\n",
              "}\n",
              "#T_04b63_row5_col4 {\n",
              "  background-color: #a1a1f7;\n",
              "  color: #f1f1f1;\n",
              "}\n",
              "#T_04b63_row5_col7 {\n",
              "  background-color: #8f8ff8;\n",
              "  color: #f1f1f1;\n",
              "}\n",
              "#T_04b63_row6_col0 {\n",
              "  background-color: #b3b3f6;\n",
              "  color: #000000;\n",
              "}\n",
              "#T_04b63_row6_col1 {\n",
              "  background-color: #bbbbf5;\n",
              "  color: #000000;\n",
              "}\n",
              "#T_04b63_row6_col3 {\n",
              "  background-color: #c5c5f5;\n",
              "  color: #000000;\n",
              "}\n",
              "#T_04b63_row6_col4 {\n",
              "  background-color: #e0e0f4;\n",
              "  color: #000000;\n",
              "}\n",
              "#T_04b63_row6_col7 {\n",
              "  background-color: #afaff6;\n",
              "  color: #000000;\n",
              "}\n",
              "#T_04b63_row7_col2 {\n",
              "  background-color: #9090f8;\n",
              "  color: #f1f1f1;\n",
              "}\n",
              "#T_04b63_row7_col5 {\n",
              "  background-color: #aaaaf6;\n",
              "  color: #000000;\n",
              "}\n",
              "#T_04b63_row7_col6 {\n",
              "  background-color: #c2c2f5;\n",
              "  color: #000000;\n",
              "}\n",
              "</style>\n",
              "<table id=\"T_04b63\" class=\"dataframe\">\n",
              "  <thead>\n",
              "    <tr>\n",
              "      <th class=\"blank level0\" >&nbsp;</th>\n",
              "      <th id=\"T_04b63_level0_col0\" class=\"col_heading level0 col0\" >cat</th>\n",
              "      <th id=\"T_04b63_level0_col1\" class=\"col_heading level0 col1\" >dog</th>\n",
              "      <th id=\"T_04b63_level0_col2\" class=\"col_heading level0 col2\" >car</th>\n",
              "      <th id=\"T_04b63_level0_col3\" class=\"col_heading level0 col3\" >bird</th>\n",
              "      <th id=\"T_04b63_level0_col4\" class=\"col_heading level0 col4\" >eagle</th>\n",
              "      <th id=\"T_04b63_level0_col5\" class=\"col_heading level0 col5\" >fly</th>\n",
              "      <th id=\"T_04b63_level0_col6\" class=\"col_heading level0 col6\" >drink</th>\n",
              "      <th id=\"T_04b63_level0_col7\" class=\"col_heading level0 col7\" >drive</th>\n",
              "    </tr>\n",
              "  </thead>\n",
              "  <tbody>\n",
              "    <tr>\n",
              "      <th id=\"T_04b63_level0_row0\" class=\"row_heading level0 row0\" >cat</th>\n",
              "      <td id=\"T_04b63_row0_col0\" class=\"data row0 col0\" >1.000000</td>\n",
              "      <td id=\"T_04b63_row0_col1\" class=\"data row0 col1\" >0.822082</td>\n",
              "      <td id=\"T_04b63_row0_col2\" class=\"data row0 col2\" >0.196986</td>\n",
              "      <td id=\"T_04b63_row0_col3\" class=\"data row0 col3\" >0.536937</td>\n",
              "      <td id=\"T_04b63_row0_col4\" class=\"data row0 col4\" >0.330381</td>\n",
              "      <td id=\"T_04b63_row0_col5\" class=\"data row0 col5\" >0.154706</td>\n",
              "      <td id=\"T_04b63_row0_col6\" class=\"data row0 col6\" >0.222942</td>\n",
              "      <td id=\"T_04b63_row0_col7\" class=\"data row0 col7\" >-0.043103</td>\n",
              "    </tr>\n",
              "    <tr>\n",
              "      <th id=\"T_04b63_level0_row1\" class=\"row_heading level0 row1\" >dog</th>\n",
              "      <td id=\"T_04b63_row1_col0\" class=\"data row1 col0\" >0.822082</td>\n",
              "      <td id=\"T_04b63_row1_col1\" class=\"data row1 col1\" >1.000000</td>\n",
              "      <td id=\"T_04b63_row1_col2\" class=\"data row1 col2\" >0.325003</td>\n",
              "      <td id=\"T_04b63_row1_col3\" class=\"data row1 col3\" >0.456740</td>\n",
              "      <td id=\"T_04b63_row1_col4\" class=\"data row1 col4\" >0.268695</td>\n",
              "      <td id=\"T_04b63_row1_col5\" class=\"data row1 col5\" >0.117945</td>\n",
              "      <td id=\"T_04b63_row1_col6\" class=\"data row1 col6\" >0.286763</td>\n",
              "      <td id=\"T_04b63_row1_col7\" class=\"data row1 col7\" >0.078213</td>\n",
              "    </tr>\n",
              "    <tr>\n",
              "      <th id=\"T_04b63_level0_row2\" class=\"row_heading level0 row2\" >car</th>\n",
              "      <td id=\"T_04b63_row2_col0\" class=\"data row2 col0\" >0.196986</td>\n",
              "      <td id=\"T_04b63_row2_col1\" class=\"data row2 col1\" >0.325003</td>\n",
              "      <td id=\"T_04b63_row2_col2\" class=\"data row2 col2\" >1.000000</td>\n",
              "      <td id=\"T_04b63_row2_col3\" class=\"data row2 col3\" >0.153305</td>\n",
              "      <td id=\"T_04b63_row2_col4\" class=\"data row2 col4\" >0.069607</td>\n",
              "      <td id=\"T_04b63_row2_col5\" class=\"data row2 col5\" >0.139716</td>\n",
              "      <td id=\"T_04b63_row2_col6\" class=\"data row2 col6\" >0.191315</td>\n",
              "      <td id=\"T_04b63_row2_col7\" class=\"data row2 col7\" >0.440595</td>\n",
              "    </tr>\n",
              "    <tr>\n",
              "      <th id=\"T_04b63_level0_row3\" class=\"row_heading level0 row3\" >bird</th>\n",
              "      <td id=\"T_04b63_row3_col0\" class=\"data row3 col0\" >0.536937</td>\n",
              "      <td id=\"T_04b63_row3_col1\" class=\"data row3 col1\" >0.456740</td>\n",
              "      <td id=\"T_04b63_row3_col2\" class=\"data row3 col2\" >0.153305</td>\n",
              "      <td id=\"T_04b63_row3_col3\" class=\"data row3 col3\" >1.000000</td>\n",
              "      <td id=\"T_04b63_row3_col4\" class=\"data row3 col4\" >0.623638</td>\n",
              "      <td id=\"T_04b63_row3_col5\" class=\"data row3 col5\" >0.366934</td>\n",
              "      <td id=\"T_04b63_row3_col6\" class=\"data row3 col6\" >0.179202</td>\n",
              "      <td id=\"T_04b63_row3_col7\" class=\"data row3 col7\" >-0.004182</td>\n",
              "    </tr>\n",
              "    <tr>\n",
              "      <th id=\"T_04b63_level0_row4\" class=\"row_heading level0 row4\" >eagle</th>\n",
              "      <td id=\"T_04b63_row4_col0\" class=\"data row4 col0\" >0.330381</td>\n",
              "      <td id=\"T_04b63_row4_col1\" class=\"data row4 col1\" >0.268695</td>\n",
              "      <td id=\"T_04b63_row4_col2\" class=\"data row4 col2\" >0.069607</td>\n",
              "      <td id=\"T_04b63_row4_col3\" class=\"data row4 col3\" >0.623638</td>\n",
              "      <td id=\"T_04b63_row4_col4\" class=\"data row4 col4\" >1.000000</td>\n",
              "      <td id=\"T_04b63_row4_col5\" class=\"data row4 col5\" >0.320517</td>\n",
              "      <td id=\"T_04b63_row4_col6\" class=\"data row4 col6\" >0.055756</td>\n",
              "      <td id=\"T_04b63_row4_col7\" class=\"data row4 col7\" >-0.012408</td>\n",
              "    </tr>\n",
              "    <tr>\n",
              "      <th id=\"T_04b63_level0_row5\" class=\"row_heading level0 row5\" >fly</th>\n",
              "      <td id=\"T_04b63_row5_col0\" class=\"data row5 col0\" >0.154706</td>\n",
              "      <td id=\"T_04b63_row5_col1\" class=\"data row5 col1\" >0.117945</td>\n",
              "      <td id=\"T_04b63_row5_col2\" class=\"data row5 col2\" >0.139716</td>\n",
              "      <td id=\"T_04b63_row5_col3\" class=\"data row5 col3\" >0.366934</td>\n",
              "      <td id=\"T_04b63_row5_col4\" class=\"data row5 col4\" >0.320517</td>\n",
              "      <td id=\"T_04b63_row5_col5\" class=\"data row5 col5\" >1.000000</td>\n",
              "      <td id=\"T_04b63_row5_col6\" class=\"data row5 col6\" >0.185683</td>\n",
              "      <td id=\"T_04b63_row5_col7\" class=\"data row5 col7\" >0.379096</td>\n",
              "    </tr>\n",
              "    <tr>\n",
              "      <th id=\"T_04b63_level0_row6\" class=\"row_heading level0 row6\" >drink</th>\n",
              "      <td id=\"T_04b63_row6_col0\" class=\"data row6 col0\" >0.222942</td>\n",
              "      <td id=\"T_04b63_row6_col1\" class=\"data row6 col1\" >0.286763</td>\n",
              "      <td id=\"T_04b63_row6_col2\" class=\"data row6 col2\" >0.191315</td>\n",
              "      <td id=\"T_04b63_row6_col3\" class=\"data row6 col3\" >0.179202</td>\n",
              "      <td id=\"T_04b63_row6_col4\" class=\"data row6 col4\" >0.055756</td>\n",
              "      <td id=\"T_04b63_row6_col5\" class=\"data row6 col5\" >0.185683</td>\n",
              "      <td id=\"T_04b63_row6_col6\" class=\"data row6 col6\" >1.000000</td>\n",
              "      <td id=\"T_04b63_row6_col7\" class=\"data row6 col7\" >0.239019</td>\n",
              "    </tr>\n",
              "    <tr>\n",
              "      <th id=\"T_04b63_level0_row7\" class=\"row_heading level0 row7\" >drive</th>\n",
              "      <td id=\"T_04b63_row7_col0\" class=\"data row7 col0\" >-0.043103</td>\n",
              "      <td id=\"T_04b63_row7_col1\" class=\"data row7 col1\" >0.078213</td>\n",
              "      <td id=\"T_04b63_row7_col2\" class=\"data row7 col2\" >0.440595</td>\n",
              "      <td id=\"T_04b63_row7_col3\" class=\"data row7 col3\" >-0.004182</td>\n",
              "      <td id=\"T_04b63_row7_col4\" class=\"data row7 col4\" >-0.012408</td>\n",
              "      <td id=\"T_04b63_row7_col5\" class=\"data row7 col5\" >0.379096</td>\n",
              "      <td id=\"T_04b63_row7_col6\" class=\"data row7 col6\" >0.239019</td>\n",
              "      <td id=\"T_04b63_row7_col7\" class=\"data row7 col7\" >1.000000</td>\n",
              "    </tr>\n",
              "  </tbody>\n",
              "</table>\n"
            ]
          },
          "metadata": {},
          "execution_count": 28
        }
      ],
      "source": [
        "similarities = cosine_similarity(vectors, vectors)\n",
        "pd.DataFrame(similarities, columns=words, index=words).style.background_gradient(cmap=cm)"
      ]
    },
    {
      "cell_type": "markdown",
      "metadata": {
        "id": "sc1jp0yyjupL"
      },
      "source": [
        "# Vectors !\n",
        "\n",
        "The vectors generated by `spacy` model is a 300 dimensional vector which is the output of a pre-trained GloVe model."
      ]
    },
    {
      "cell_type": "code",
      "execution_count": 29,
      "metadata": {
        "ExecuteTime": {
          "end_time": "2021-11-07T21:50:15.459013Z",
          "start_time": "2021-11-07T21:50:15.403882Z"
        },
        "colab": {
          "base_uri": "https://localhost:8080/"
        },
        "id": "uMHcWxK8jupL",
        "outputId": "a97bc152-9b5c-4c1a-9bce-fa8dd17191b9"
      },
      "outputs": [
        {
          "output_type": "stream",
          "name": "stdout",
          "text": [
            "Shape of the word vector: (300,)\n",
            "First 5 dimensions of the word vector: [-2.761   -7.7805   2.612    2.7064  -0.31857]\n"
          ]
        }
      ],
      "source": [
        "# Obtain the word vector for the word \"Bank\" using spaCy's 'en_core_web_sm' model\n",
        "vector = nlp(\"Bank\").vector\n",
        "\n",
        "# Print the shape of the word vector to show its dimensionality\n",
        "print(\"Shape of the word vector:\", vector.shape)\n",
        "\n",
        "# Print the first 5 dimensions of the word vector\n",
        "print(\"First 5 dimensions of the word vector:\", vector[:5])\n"
      ]
    },
    {
      "cell_type": "markdown",
      "metadata": {
        "id": "ob9K-LrQjupN"
      },
      "source": [
        "## Embeddings as feature\n",
        "\n",
        "We can use word embedding as features of the text and build a classifier using them"
      ]
    },
    {
      "cell_type": "code",
      "execution_count": 30,
      "metadata": {
        "ExecuteTime": {
          "end_time": "2021-11-07T22:05:53.193521Z",
          "start_time": "2021-11-07T22:05:51.227981Z"
        },
        "id": "I6Gau7vBjupN"
      },
      "outputs": [],
      "source": [
        "# Import necessary libraries\n",
        "import numpy as np\n",
        "from tqdm.auto import tqdm  # tqdm for progress bar\n",
        "from sklearn.datasets import fetch_20newsgroups\n",
        "from sklearn.linear_model import LogisticRegression\n",
        "from sklearn.svm import LinearSVC\n",
        "from sklearn.metrics import classification_report\n",
        "\n",
        "# Define the categories (newsgroup topics) we want to classify\n",
        "categories = ['alt.atheism', 'soc.religion.christian',\n",
        "              'comp.graphics', 'sci.med']\n",
        "\n",
        "# Fetch the training data and labels from the 20 Newsgroups dataset\n",
        "x_train, y_train = fetch_20newsgroups(categories=categories,\n",
        "                          remove=('headers', 'footers', 'quotes'), return_X_y=True)\n",
        "\n",
        "# Fetch the test data and labels from the 20 Newsgroups dataset\n",
        "x_test, y_test = fetch_20newsgroups(categories=categories,\n",
        "                          remove=('headers', 'footers', 'quotes'), return_X_y=True, subset='test')\n"
      ]
    },
    {
      "cell_type": "code",
      "execution_count": 31,
      "metadata": {
        "ExecuteTime": {
          "end_time": "2021-11-07T22:08:34.484149Z",
          "start_time": "2021-11-07T22:05:54.754281Z"
        },
        "colab": {
          "base_uri": "https://localhost:8080/",
          "height": 81,
          "referenced_widgets": [
            "eb0b6064032348e59fd1a83f2c532f5e",
            "0b03a1374f4b476a9bcb92a0910f3af2",
            "b748fed1fb6e4c20bc8fe57db9696bb3",
            "e8e36e295aaf4a029bbbe51dc9cfbf79",
            "dfc29c78ef354c3ca34bafc7bfdb70fc",
            "67985e5afa064fcd836835e21da130a6",
            "59b6a6110edf48a9a911459ee607159a",
            "e3af33376cc047bab934930a04e4a89d",
            "d1ac1fd934bc45c18d6c2e0045555a03",
            "79ebbe2452564e26aaf341a5ae9213a8",
            "1afa65b2150840c48e99d98e7bc1e170",
            "062fade6b75742be8c37ea87ba254599",
            "df61056f008e49d98ebf823cf62a35e3",
            "a0d10e9eec6147dbbb1e719a893f29cf",
            "417603f262614826b936d52723ced325",
            "e2d26c619bd94178b331c35323e9d72c",
            "917264eff66c4bd69e437deb4855e4d7",
            "88317320faa54bf696db728464f99c77",
            "5478d8a1e4314cf1a51e501d8592fb0d",
            "caf950aa7085442a8c03a4c65ffeebaf",
            "9500f9709af84ddf977a3c4822dd65b3",
            "4af886d273684fd5ab7e0c98c4c88f82"
          ]
        },
        "id": "GbmypnhUjupO",
        "outputId": "bb96acba-5754-49ee-91e9-93e4bc283024"
      },
      "outputs": [
        {
          "output_type": "display_data",
          "data": {
            "text/plain": [
              "  0%|          | 0/2257 [00:00<?, ?it/s]"
            ],
            "application/vnd.jupyter.widget-view+json": {
              "version_major": 2,
              "version_minor": 0,
              "model_id": "eb0b6064032348e59fd1a83f2c532f5e"
            }
          },
          "metadata": {}
        },
        {
          "output_type": "display_data",
          "data": {
            "text/plain": [
              "  0%|          | 0/1502 [00:00<?, ?it/s]"
            ],
            "application/vnd.jupyter.widget-view+json": {
              "version_major": 2,
              "version_minor": 0,
              "model_id": "062fade6b75742be8c37ea87ba254599"
            }
          },
          "metadata": {}
        }
      ],
      "source": [
        "# Create zero-initialized arrays to store word vectors for training and testing data\n",
        "# Each word vector has a dimensionality of 300\n",
        "x_train_v = np.zeros((len(x_train), 300))\n",
        "x_test_v = np.zeros((len(x_test), 300))\n",
        "\n",
        "# Loop through and process training data with spaCy, extracting word vectors\n",
        "# tqdm is used to display a progress bar for the loop\n",
        "for i, doc in tqdm(enumerate(nlp.pipe(x_train)), total=len(x_train)):\n",
        "    # Store the word vector of the processed document in the training data array\n",
        "    x_train_v[i, :] = doc.vector\n",
        "\n",
        "# Loop through and process testing data with spaCy, extracting word vectors\n",
        "# tqdm is used to display a progress bar for the loop\n",
        "for i, doc in tqdm(enumerate(nlp.pipe(x_test)), total=len(x_test)):\n",
        "    # Store the word vector of the processed document in the testing data array\n",
        "    x_test_v[i, :] = doc.vector\n"
      ]
    },
    {
      "cell_type": "markdown",
      "metadata": {
        "id": "QJVM_zf5jupP"
      },
      "source": [
        "# Train a classifier"
      ]
    },
    {
      "cell_type": "code",
      "execution_count": 32,
      "metadata": {
        "ExecuteTime": {
          "end_time": "2021-11-07T22:12:21.083444Z",
          "start_time": "2021-11-07T22:12:19.718135Z"
        },
        "colab": {
          "base_uri": "https://localhost:8080/"
        },
        "id": "ooZMXIFMjupQ",
        "outputId": "10b08ed2-bd25-4a80-ac3a-16d9ae33ff78"
      },
      "outputs": [
        {
          "output_type": "stream",
          "name": "stdout",
          "text": [
            "                        precision    recall  f1-score   support\n",
            "\n",
            "           alt.atheism       0.58      0.70      0.63       319\n",
            "soc.religion.christian       0.89      0.87      0.88       389\n",
            "         comp.graphics       0.82      0.83      0.83       396\n",
            "               sci.med       0.78      0.66      0.72       398\n",
            "\n",
            "              accuracy                           0.77      1502\n",
            "             macro avg       0.77      0.77      0.76      1502\n",
            "          weighted avg       0.78      0.77      0.77      1502\n",
            "\n"
          ]
        },
        {
          "output_type": "stream",
          "name": "stderr",
          "text": [
            "/usr/local/lib/python3.10/dist-packages/sklearn/svm/_base.py:1244: ConvergenceWarning: Liblinear failed to converge, increase the number of iterations.\n",
            "  warnings.warn(\n"
          ]
        }
      ],
      "source": [
        "# Initialize a Linear Support Vector Classifier (LinearSVC)\n",
        "clf = LinearSVC()\n",
        "\n",
        "# Fit the classifier on the training data with their corresponding word vectors\n",
        "clf.fit(x_train_v, y_train)\n",
        "\n",
        "# Generate and print a classification report on the test data\n",
        "# This report includes precision, recall, F1-score, and other metrics for each category\n",
        "# It helps evaluate the performance of the classifier\n",
        "print(classification_report(y_test, clf.predict(x_test_v), target_names=categories))\n"
      ]
    },
    {
      "cell_type": "markdown",
      "metadata": {
        "id": "6fgvojhXjupR"
      },
      "source": [
        "# Get top similar"
      ]
    },
    {
      "cell_type": "code",
      "execution_count": 33,
      "metadata": {
        "ExecuteTime": {
          "end_time": "2021-11-07T22:25:25.193868Z",
          "start_time": "2021-11-07T22:25:25.134700Z"
        },
        "colab": {
          "base_uri": "https://localhost:8080/"
        },
        "id": "g0dC5PeujupR",
        "outputId": "458b621b-2995-4cad-b38e-059f2bc25c5c"
      },
      "outputs": [
        {
          "output_type": "stream",
          "name": "stdout",
          "text": [
            "ID: 82\n",
            "True label: sci.med\n",
            "0 nearest label is sci.med similarity score: 0.99\n",
            "1 nearest label is sci.med similarity score: 0.988\n",
            "2 nearest label is sci.med similarity score: 0.988\n",
            "ID: 516\n",
            "True label: sci.med\n",
            "0 nearest label is sci.med similarity score: 0.977\n",
            "1 nearest label is sci.med similarity score: 0.973\n",
            "2 nearest label is sci.med similarity score: 0.972\n",
            "ID: 1359\n",
            "True label: comp.graphics\n",
            "0 nearest label is comp.graphics similarity score: 0.952\n",
            "1 nearest label is sci.med similarity score: 0.945\n",
            "2 nearest label is comp.graphics similarity score: 0.937\n",
            "ID: 35\n",
            "True label: alt.atheism\n",
            "0 nearest label is alt.atheism similarity score: 0.987\n",
            "1 nearest label is sci.med similarity score: 0.983\n",
            "2 nearest label is alt.atheism similarity score: 0.981\n",
            "ID: 1225\n",
            "True label: soc.religion.christian\n",
            "0 nearest label is sci.med similarity score: 0.932\n",
            "1 nearest label is alt.atheism similarity score: 0.927\n",
            "2 nearest label is alt.atheism similarity score: 0.923\n"
          ]
        }
      ],
      "source": [
        "# Import necessary libraries\n",
        "import random\n",
        "from termcolor import colored\n",
        "\n",
        "# Randomly choose 5 samples from the test data\n",
        "for i in random.choices(range(0, len(x_test_v)), k=5):\n",
        "    print(f\"ID: {i}\")\n",
        "\n",
        "    # Print the true label in green color\n",
        "    print(\"True label:\", colored(categories[y_test[i]], 'green'))\n",
        "\n",
        "    # Calculate cosine similarity between the test sample and all training samples\n",
        "    distances = cosine_similarity([x_test_v[i]], x_train_v).flatten()\n",
        "\n",
        "    # Sort the indices of training samples by similarity (descending order)\n",
        "    indices = np.argsort(distances)[::-1]\n",
        "\n",
        "    # Print the top 3 nearest labels and their similarity scores\n",
        "    for _, j in enumerate(indices[:3]):\n",
        "        # Label color is green if it matches the true label, red otherwise\n",
        "        label_color = 'green' if y_train[j] == y_test[i] else 'red'\n",
        "\n",
        "        # Print the nearest label, its color, and the similarity score in yellow\n",
        "        print(f\"{_} nearest label is\",\n",
        "              f\"{colored(categories[y_train[j]], label_color)}\",\n",
        "              f\"similarity score: {colored(round(distances[j], 3), 'yellow')}\")\n"
      ]
    },
    {
      "cell_type": "markdown",
      "metadata": {
        "id": "D_nm2dxLjupR"
      },
      "source": [
        "# Conclusion\n",
        "\n",
        "- Word embedding is a very powerful feature specially if you have small data, as your model will make use of the learned features of the word2vec model and thus will be able to make better predictions.\n",
        "- Word2vec and GloVe don't count for different context that the same word can have in different sentences"
      ]
    }
  ],
  "metadata": {
    "celltoolbar": "Slideshow",
    "kernelspec": {
      "display_name": "python3.7",
      "language": "python",
      "name": "python3.7"
    },
    "language_info": {
      "codemirror_mode": {
        "name": "ipython",
        "version": 3
      },
      "file_extension": ".py",
      "mimetype": "text/x-python",
      "name": "python",
      "nbconvert_exporter": "python",
      "pygments_lexer": "ipython3",
      "version": "3.7.4"
    },
    "colab": {
      "provenance": []
    },
    "widgets": {
      "application/vnd.jupyter.widget-state+json": {
        "eb0b6064032348e59fd1a83f2c532f5e": {
          "model_module": "@jupyter-widgets/controls",
          "model_name": "HBoxModel",
          "model_module_version": "1.5.0",
          "state": {
            "_dom_classes": [],
            "_model_module": "@jupyter-widgets/controls",
            "_model_module_version": "1.5.0",
            "_model_name": "HBoxModel",
            "_view_count": null,
            "_view_module": "@jupyter-widgets/controls",
            "_view_module_version": "1.5.0",
            "_view_name": "HBoxView",
            "box_style": "",
            "children": [
              "IPY_MODEL_0b03a1374f4b476a9bcb92a0910f3af2",
              "IPY_MODEL_b748fed1fb6e4c20bc8fe57db9696bb3",
              "IPY_MODEL_e8e36e295aaf4a029bbbe51dc9cfbf79"
            ],
            "layout": "IPY_MODEL_dfc29c78ef354c3ca34bafc7bfdb70fc"
          }
        },
        "0b03a1374f4b476a9bcb92a0910f3af2": {
          "model_module": "@jupyter-widgets/controls",
          "model_name": "HTMLModel",
          "model_module_version": "1.5.0",
          "state": {
            "_dom_classes": [],
            "_model_module": "@jupyter-widgets/controls",
            "_model_module_version": "1.5.0",
            "_model_name": "HTMLModel",
            "_view_count": null,
            "_view_module": "@jupyter-widgets/controls",
            "_view_module_version": "1.5.0",
            "_view_name": "HTMLView",
            "description": "",
            "description_tooltip": null,
            "layout": "IPY_MODEL_67985e5afa064fcd836835e21da130a6",
            "placeholder": "​",
            "style": "IPY_MODEL_59b6a6110edf48a9a911459ee607159a",
            "value": "100%"
          }
        },
        "b748fed1fb6e4c20bc8fe57db9696bb3": {
          "model_module": "@jupyter-widgets/controls",
          "model_name": "FloatProgressModel",
          "model_module_version": "1.5.0",
          "state": {
            "_dom_classes": [],
            "_model_module": "@jupyter-widgets/controls",
            "_model_module_version": "1.5.0",
            "_model_name": "FloatProgressModel",
            "_view_count": null,
            "_view_module": "@jupyter-widgets/controls",
            "_view_module_version": "1.5.0",
            "_view_name": "ProgressView",
            "bar_style": "success",
            "description": "",
            "description_tooltip": null,
            "layout": "IPY_MODEL_e3af33376cc047bab934930a04e4a89d",
            "max": 2257,
            "min": 0,
            "orientation": "horizontal",
            "style": "IPY_MODEL_d1ac1fd934bc45c18d6c2e0045555a03",
            "value": 2257
          }
        },
        "e8e36e295aaf4a029bbbe51dc9cfbf79": {
          "model_module": "@jupyter-widgets/controls",
          "model_name": "HTMLModel",
          "model_module_version": "1.5.0",
          "state": {
            "_dom_classes": [],
            "_model_module": "@jupyter-widgets/controls",
            "_model_module_version": "1.5.0",
            "_model_name": "HTMLModel",
            "_view_count": null,
            "_view_module": "@jupyter-widgets/controls",
            "_view_module_version": "1.5.0",
            "_view_name": "HTMLView",
            "description": "",
            "description_tooltip": null,
            "layout": "IPY_MODEL_79ebbe2452564e26aaf341a5ae9213a8",
            "placeholder": "​",
            "style": "IPY_MODEL_1afa65b2150840c48e99d98e7bc1e170",
            "value": " 2257/2257 [01:46&lt;00:00, 40.92it/s]"
          }
        },
        "dfc29c78ef354c3ca34bafc7bfdb70fc": {
          "model_module": "@jupyter-widgets/base",
          "model_name": "LayoutModel",
          "model_module_version": "1.2.0",
          "state": {
            "_model_module": "@jupyter-widgets/base",
            "_model_module_version": "1.2.0",
            "_model_name": "LayoutModel",
            "_view_count": null,
            "_view_module": "@jupyter-widgets/base",
            "_view_module_version": "1.2.0",
            "_view_name": "LayoutView",
            "align_content": null,
            "align_items": null,
            "align_self": null,
            "border": null,
            "bottom": null,
            "display": null,
            "flex": null,
            "flex_flow": null,
            "grid_area": null,
            "grid_auto_columns": null,
            "grid_auto_flow": null,
            "grid_auto_rows": null,
            "grid_column": null,
            "grid_gap": null,
            "grid_row": null,
            "grid_template_areas": null,
            "grid_template_columns": null,
            "grid_template_rows": null,
            "height": null,
            "justify_content": null,
            "justify_items": null,
            "left": null,
            "margin": null,
            "max_height": null,
            "max_width": null,
            "min_height": null,
            "min_width": null,
            "object_fit": null,
            "object_position": null,
            "order": null,
            "overflow": null,
            "overflow_x": null,
            "overflow_y": null,
            "padding": null,
            "right": null,
            "top": null,
            "visibility": null,
            "width": null
          }
        },
        "67985e5afa064fcd836835e21da130a6": {
          "model_module": "@jupyter-widgets/base",
          "model_name": "LayoutModel",
          "model_module_version": "1.2.0",
          "state": {
            "_model_module": "@jupyter-widgets/base",
            "_model_module_version": "1.2.0",
            "_model_name": "LayoutModel",
            "_view_count": null,
            "_view_module": "@jupyter-widgets/base",
            "_view_module_version": "1.2.0",
            "_view_name": "LayoutView",
            "align_content": null,
            "align_items": null,
            "align_self": null,
            "border": null,
            "bottom": null,
            "display": null,
            "flex": null,
            "flex_flow": null,
            "grid_area": null,
            "grid_auto_columns": null,
            "grid_auto_flow": null,
            "grid_auto_rows": null,
            "grid_column": null,
            "grid_gap": null,
            "grid_row": null,
            "grid_template_areas": null,
            "grid_template_columns": null,
            "grid_template_rows": null,
            "height": null,
            "justify_content": null,
            "justify_items": null,
            "left": null,
            "margin": null,
            "max_height": null,
            "max_width": null,
            "min_height": null,
            "min_width": null,
            "object_fit": null,
            "object_position": null,
            "order": null,
            "overflow": null,
            "overflow_x": null,
            "overflow_y": null,
            "padding": null,
            "right": null,
            "top": null,
            "visibility": null,
            "width": null
          }
        },
        "59b6a6110edf48a9a911459ee607159a": {
          "model_module": "@jupyter-widgets/controls",
          "model_name": "DescriptionStyleModel",
          "model_module_version": "1.5.0",
          "state": {
            "_model_module": "@jupyter-widgets/controls",
            "_model_module_version": "1.5.0",
            "_model_name": "DescriptionStyleModel",
            "_view_count": null,
            "_view_module": "@jupyter-widgets/base",
            "_view_module_version": "1.2.0",
            "_view_name": "StyleView",
            "description_width": ""
          }
        },
        "e3af33376cc047bab934930a04e4a89d": {
          "model_module": "@jupyter-widgets/base",
          "model_name": "LayoutModel",
          "model_module_version": "1.2.0",
          "state": {
            "_model_module": "@jupyter-widgets/base",
            "_model_module_version": "1.2.0",
            "_model_name": "LayoutModel",
            "_view_count": null,
            "_view_module": "@jupyter-widgets/base",
            "_view_module_version": "1.2.0",
            "_view_name": "LayoutView",
            "align_content": null,
            "align_items": null,
            "align_self": null,
            "border": null,
            "bottom": null,
            "display": null,
            "flex": null,
            "flex_flow": null,
            "grid_area": null,
            "grid_auto_columns": null,
            "grid_auto_flow": null,
            "grid_auto_rows": null,
            "grid_column": null,
            "grid_gap": null,
            "grid_row": null,
            "grid_template_areas": null,
            "grid_template_columns": null,
            "grid_template_rows": null,
            "height": null,
            "justify_content": null,
            "justify_items": null,
            "left": null,
            "margin": null,
            "max_height": null,
            "max_width": null,
            "min_height": null,
            "min_width": null,
            "object_fit": null,
            "object_position": null,
            "order": null,
            "overflow": null,
            "overflow_x": null,
            "overflow_y": null,
            "padding": null,
            "right": null,
            "top": null,
            "visibility": null,
            "width": null
          }
        },
        "d1ac1fd934bc45c18d6c2e0045555a03": {
          "model_module": "@jupyter-widgets/controls",
          "model_name": "ProgressStyleModel",
          "model_module_version": "1.5.0",
          "state": {
            "_model_module": "@jupyter-widgets/controls",
            "_model_module_version": "1.5.0",
            "_model_name": "ProgressStyleModel",
            "_view_count": null,
            "_view_module": "@jupyter-widgets/base",
            "_view_module_version": "1.2.0",
            "_view_name": "StyleView",
            "bar_color": null,
            "description_width": ""
          }
        },
        "79ebbe2452564e26aaf341a5ae9213a8": {
          "model_module": "@jupyter-widgets/base",
          "model_name": "LayoutModel",
          "model_module_version": "1.2.0",
          "state": {
            "_model_module": "@jupyter-widgets/base",
            "_model_module_version": "1.2.0",
            "_model_name": "LayoutModel",
            "_view_count": null,
            "_view_module": "@jupyter-widgets/base",
            "_view_module_version": "1.2.0",
            "_view_name": "LayoutView",
            "align_content": null,
            "align_items": null,
            "align_self": null,
            "border": null,
            "bottom": null,
            "display": null,
            "flex": null,
            "flex_flow": null,
            "grid_area": null,
            "grid_auto_columns": null,
            "grid_auto_flow": null,
            "grid_auto_rows": null,
            "grid_column": null,
            "grid_gap": null,
            "grid_row": null,
            "grid_template_areas": null,
            "grid_template_columns": null,
            "grid_template_rows": null,
            "height": null,
            "justify_content": null,
            "justify_items": null,
            "left": null,
            "margin": null,
            "max_height": null,
            "max_width": null,
            "min_height": null,
            "min_width": null,
            "object_fit": null,
            "object_position": null,
            "order": null,
            "overflow": null,
            "overflow_x": null,
            "overflow_y": null,
            "padding": null,
            "right": null,
            "top": null,
            "visibility": null,
            "width": null
          }
        },
        "1afa65b2150840c48e99d98e7bc1e170": {
          "model_module": "@jupyter-widgets/controls",
          "model_name": "DescriptionStyleModel",
          "model_module_version": "1.5.0",
          "state": {
            "_model_module": "@jupyter-widgets/controls",
            "_model_module_version": "1.5.0",
            "_model_name": "DescriptionStyleModel",
            "_view_count": null,
            "_view_module": "@jupyter-widgets/base",
            "_view_module_version": "1.2.0",
            "_view_name": "StyleView",
            "description_width": ""
          }
        },
        "062fade6b75742be8c37ea87ba254599": {
          "model_module": "@jupyter-widgets/controls",
          "model_name": "HBoxModel",
          "model_module_version": "1.5.0",
          "state": {
            "_dom_classes": [],
            "_model_module": "@jupyter-widgets/controls",
            "_model_module_version": "1.5.0",
            "_model_name": "HBoxModel",
            "_view_count": null,
            "_view_module": "@jupyter-widgets/controls",
            "_view_module_version": "1.5.0",
            "_view_name": "HBoxView",
            "box_style": "",
            "children": [
              "IPY_MODEL_df61056f008e49d98ebf823cf62a35e3",
              "IPY_MODEL_a0d10e9eec6147dbbb1e719a893f29cf",
              "IPY_MODEL_417603f262614826b936d52723ced325"
            ],
            "layout": "IPY_MODEL_e2d26c619bd94178b331c35323e9d72c"
          }
        },
        "df61056f008e49d98ebf823cf62a35e3": {
          "model_module": "@jupyter-widgets/controls",
          "model_name": "HTMLModel",
          "model_module_version": "1.5.0",
          "state": {
            "_dom_classes": [],
            "_model_module": "@jupyter-widgets/controls",
            "_model_module_version": "1.5.0",
            "_model_name": "HTMLModel",
            "_view_count": null,
            "_view_module": "@jupyter-widgets/controls",
            "_view_module_version": "1.5.0",
            "_view_name": "HTMLView",
            "description": "",
            "description_tooltip": null,
            "layout": "IPY_MODEL_917264eff66c4bd69e437deb4855e4d7",
            "placeholder": "​",
            "style": "IPY_MODEL_88317320faa54bf696db728464f99c77",
            "value": "100%"
          }
        },
        "a0d10e9eec6147dbbb1e719a893f29cf": {
          "model_module": "@jupyter-widgets/controls",
          "model_name": "FloatProgressModel",
          "model_module_version": "1.5.0",
          "state": {
            "_dom_classes": [],
            "_model_module": "@jupyter-widgets/controls",
            "_model_module_version": "1.5.0",
            "_model_name": "FloatProgressModel",
            "_view_count": null,
            "_view_module": "@jupyter-widgets/controls",
            "_view_module_version": "1.5.0",
            "_view_name": "ProgressView",
            "bar_style": "success",
            "description": "",
            "description_tooltip": null,
            "layout": "IPY_MODEL_5478d8a1e4314cf1a51e501d8592fb0d",
            "max": 1502,
            "min": 0,
            "orientation": "horizontal",
            "style": "IPY_MODEL_caf950aa7085442a8c03a4c65ffeebaf",
            "value": 1502
          }
        },
        "417603f262614826b936d52723ced325": {
          "model_module": "@jupyter-widgets/controls",
          "model_name": "HTMLModel",
          "model_module_version": "1.5.0",
          "state": {
            "_dom_classes": [],
            "_model_module": "@jupyter-widgets/controls",
            "_model_module_version": "1.5.0",
            "_model_name": "HTMLModel",
            "_view_count": null,
            "_view_module": "@jupyter-widgets/controls",
            "_view_module_version": "1.5.0",
            "_view_name": "HTMLView",
            "description": "",
            "description_tooltip": null,
            "layout": "IPY_MODEL_9500f9709af84ddf977a3c4822dd65b3",
            "placeholder": "​",
            "style": "IPY_MODEL_4af886d273684fd5ab7e0c98c4c88f82",
            "value": " 1502/1502 [01:20&lt;00:00, 38.94it/s]"
          }
        },
        "e2d26c619bd94178b331c35323e9d72c": {
          "model_module": "@jupyter-widgets/base",
          "model_name": "LayoutModel",
          "model_module_version": "1.2.0",
          "state": {
            "_model_module": "@jupyter-widgets/base",
            "_model_module_version": "1.2.0",
            "_model_name": "LayoutModel",
            "_view_count": null,
            "_view_module": "@jupyter-widgets/base",
            "_view_module_version": "1.2.0",
            "_view_name": "LayoutView",
            "align_content": null,
            "align_items": null,
            "align_self": null,
            "border": null,
            "bottom": null,
            "display": null,
            "flex": null,
            "flex_flow": null,
            "grid_area": null,
            "grid_auto_columns": null,
            "grid_auto_flow": null,
            "grid_auto_rows": null,
            "grid_column": null,
            "grid_gap": null,
            "grid_row": null,
            "grid_template_areas": null,
            "grid_template_columns": null,
            "grid_template_rows": null,
            "height": null,
            "justify_content": null,
            "justify_items": null,
            "left": null,
            "margin": null,
            "max_height": null,
            "max_width": null,
            "min_height": null,
            "min_width": null,
            "object_fit": null,
            "object_position": null,
            "order": null,
            "overflow": null,
            "overflow_x": null,
            "overflow_y": null,
            "padding": null,
            "right": null,
            "top": null,
            "visibility": null,
            "width": null
          }
        },
        "917264eff66c4bd69e437deb4855e4d7": {
          "model_module": "@jupyter-widgets/base",
          "model_name": "LayoutModel",
          "model_module_version": "1.2.0",
          "state": {
            "_model_module": "@jupyter-widgets/base",
            "_model_module_version": "1.2.0",
            "_model_name": "LayoutModel",
            "_view_count": null,
            "_view_module": "@jupyter-widgets/base",
            "_view_module_version": "1.2.0",
            "_view_name": "LayoutView",
            "align_content": null,
            "align_items": null,
            "align_self": null,
            "border": null,
            "bottom": null,
            "display": null,
            "flex": null,
            "flex_flow": null,
            "grid_area": null,
            "grid_auto_columns": null,
            "grid_auto_flow": null,
            "grid_auto_rows": null,
            "grid_column": null,
            "grid_gap": null,
            "grid_row": null,
            "grid_template_areas": null,
            "grid_template_columns": null,
            "grid_template_rows": null,
            "height": null,
            "justify_content": null,
            "justify_items": null,
            "left": null,
            "margin": null,
            "max_height": null,
            "max_width": null,
            "min_height": null,
            "min_width": null,
            "object_fit": null,
            "object_position": null,
            "order": null,
            "overflow": null,
            "overflow_x": null,
            "overflow_y": null,
            "padding": null,
            "right": null,
            "top": null,
            "visibility": null,
            "width": null
          }
        },
        "88317320faa54bf696db728464f99c77": {
          "model_module": "@jupyter-widgets/controls",
          "model_name": "DescriptionStyleModel",
          "model_module_version": "1.5.0",
          "state": {
            "_model_module": "@jupyter-widgets/controls",
            "_model_module_version": "1.5.0",
            "_model_name": "DescriptionStyleModel",
            "_view_count": null,
            "_view_module": "@jupyter-widgets/base",
            "_view_module_version": "1.2.0",
            "_view_name": "StyleView",
            "description_width": ""
          }
        },
        "5478d8a1e4314cf1a51e501d8592fb0d": {
          "model_module": "@jupyter-widgets/base",
          "model_name": "LayoutModel",
          "model_module_version": "1.2.0",
          "state": {
            "_model_module": "@jupyter-widgets/base",
            "_model_module_version": "1.2.0",
            "_model_name": "LayoutModel",
            "_view_count": null,
            "_view_module": "@jupyter-widgets/base",
            "_view_module_version": "1.2.0",
            "_view_name": "LayoutView",
            "align_content": null,
            "align_items": null,
            "align_self": null,
            "border": null,
            "bottom": null,
            "display": null,
            "flex": null,
            "flex_flow": null,
            "grid_area": null,
            "grid_auto_columns": null,
            "grid_auto_flow": null,
            "grid_auto_rows": null,
            "grid_column": null,
            "grid_gap": null,
            "grid_row": null,
            "grid_template_areas": null,
            "grid_template_columns": null,
            "grid_template_rows": null,
            "height": null,
            "justify_content": null,
            "justify_items": null,
            "left": null,
            "margin": null,
            "max_height": null,
            "max_width": null,
            "min_height": null,
            "min_width": null,
            "object_fit": null,
            "object_position": null,
            "order": null,
            "overflow": null,
            "overflow_x": null,
            "overflow_y": null,
            "padding": null,
            "right": null,
            "top": null,
            "visibility": null,
            "width": null
          }
        },
        "caf950aa7085442a8c03a4c65ffeebaf": {
          "model_module": "@jupyter-widgets/controls",
          "model_name": "ProgressStyleModel",
          "model_module_version": "1.5.0",
          "state": {
            "_model_module": "@jupyter-widgets/controls",
            "_model_module_version": "1.5.0",
            "_model_name": "ProgressStyleModel",
            "_view_count": null,
            "_view_module": "@jupyter-widgets/base",
            "_view_module_version": "1.2.0",
            "_view_name": "StyleView",
            "bar_color": null,
            "description_width": ""
          }
        },
        "9500f9709af84ddf977a3c4822dd65b3": {
          "model_module": "@jupyter-widgets/base",
          "model_name": "LayoutModel",
          "model_module_version": "1.2.0",
          "state": {
            "_model_module": "@jupyter-widgets/base",
            "_model_module_version": "1.2.0",
            "_model_name": "LayoutModel",
            "_view_count": null,
            "_view_module": "@jupyter-widgets/base",
            "_view_module_version": "1.2.0",
            "_view_name": "LayoutView",
            "align_content": null,
            "align_items": null,
            "align_self": null,
            "border": null,
            "bottom": null,
            "display": null,
            "flex": null,
            "flex_flow": null,
            "grid_area": null,
            "grid_auto_columns": null,
            "grid_auto_flow": null,
            "grid_auto_rows": null,
            "grid_column": null,
            "grid_gap": null,
            "grid_row": null,
            "grid_template_areas": null,
            "grid_template_columns": null,
            "grid_template_rows": null,
            "height": null,
            "justify_content": null,
            "justify_items": null,
            "left": null,
            "margin": null,
            "max_height": null,
            "max_width": null,
            "min_height": null,
            "min_width": null,
            "object_fit": null,
            "object_position": null,
            "order": null,
            "overflow": null,
            "overflow_x": null,
            "overflow_y": null,
            "padding": null,
            "right": null,
            "top": null,
            "visibility": null,
            "width": null
          }
        },
        "4af886d273684fd5ab7e0c98c4c88f82": {
          "model_module": "@jupyter-widgets/controls",
          "model_name": "DescriptionStyleModel",
          "model_module_version": "1.5.0",
          "state": {
            "_model_module": "@jupyter-widgets/controls",
            "_model_module_version": "1.5.0",
            "_model_name": "DescriptionStyleModel",
            "_view_count": null,
            "_view_module": "@jupyter-widgets/base",
            "_view_module_version": "1.2.0",
            "_view_name": "StyleView",
            "description_width": ""
          }
        }
      }
    }
  },
  "nbformat": 4,
  "nbformat_minor": 0
}