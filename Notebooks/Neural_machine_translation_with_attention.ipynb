{
  "cells": [
    {
      "cell_type": "markdown",
      "metadata": {
        "id": "s_qNSzzyaCbD"
      },
      "source": [
        "#####  The TensorFlow Authors."
      ]
    },
    {
      "cell_type": "markdown",
      "metadata": {
        "id": "J0Qjg6vuaHNt"
      },
      "source": [
        "# Neural machine translation with attention"
      ]
    },
    {
      "cell_type": "markdown",
      "metadata": {
        "id": "AOpGoE2T-YXS"
      },
      "source": [
        "<table class=\"tfo-notebook-buttons\" align=\"left\">\n",
        "  <td>\n",
        "    <a target=\"_blank\" href=\"https://www.tensorflow.org/tutorials/text/nmt_with_attention\">\n",
        "    <img src=\"https://www.tensorflow.org/images/tf_logo_32px.png\" />\n",
        "    View on TensorFlow.org</a>\n",
        "  </td>\n",
        "  <td>\n",
        "    <a target=\"_blank\" href=\"https://colab.research.google.com/github/tensorflow/docs/blob/master/site/en/tutorials/text/nmt_with_attention.ipynb\">\n",
        "    <img src=\"https://www.tensorflow.org/images/colab_logo_32px.png\" />\n",
        "    Run in Google Colab</a>\n",
        "  </td>\n",
        "  <td>\n",
        "    <a target=\"_blank\" href=\"https://github.com/tensorflow/docs/blob/master/site/en/tutorials/text/nmt_with_attention.ipynb\">\n",
        "    <img src=\"https://www.tensorflow.org/images/GitHub-Mark-32px.png\" />\n",
        "    View source on GitHub</a>\n",
        "  </td>\n",
        "  <td>\n",
        "    <a href=\"https://storage.googleapis.com/tensorflow_docs/docs/site/en/tutorials/text/nmt_with_attention.ipynb\"><img src=\"https://www.tensorflow.org/images/download_logo_32px.png\" />Download notebook</a>\n",
        "  </td>\n",
        "</table>"
      ]
    },
    {
      "cell_type": "markdown",
      "metadata": {
        "id": "CiwtNgENbx2g"
      },
      "source": [
        "This notebook trains a sequence to sequence (seq2seq) model for Spanish to English translation. This is an advanced example that assumes some knowledge of sequence to sequence models.\n",
        "\n",
        "After training the model in this notebook, you will be able to input a Spanish sentence, such as *\"¿todavia estan en casa?\"*, and return the English translation: *\"are you still at home?\"*\n",
        "\n",
        "The translation quality is reasonable for a toy example, but the generated attention plot is perhaps more interesting. This shows which parts of the input sentence has the model's attention while translating:\n",
        "\n",
        "<img src=\"https://tensorflow.org/images/spanish-english.png\" alt=\"spanish-english attention plot\">\n",
        "\n",
        "Note: This example takes approximately 10 minutes to run on a single P100 GPU."
      ]
    },
    {
      "cell_type": "code",
      "execution_count": 1,
      "metadata": {
        "ExecuteTime": {
          "end_time": "2020-05-23T05:04:39.780071Z",
          "start_time": "2020-05-23T05:04:37.789754Z"
        },
        "id": "tnxXKDjq3jEL"
      },
      "outputs": [],
      "source": [
        "# Import the TensorFlow library for deep learning.\n",
        "import tensorflow as tf\n",
        "\n",
        "# Import necessary modules for data visualization and preprocessing.\n",
        "import matplotlib.pyplot as plt\n",
        "import matplotlib.ticker as ticker\n",
        "from sklearn.model_selection import train_test_split\n",
        "\n",
        "# Import modules for text preprocessing and manipulation.\n",
        "import unicodedata\n",
        "import re\n",
        "import numpy as np\n",
        "import os\n",
        "import io\n",
        "import time\n"
      ]
    },
    {
      "cell_type": "markdown",
      "metadata": {
        "id": "wfodePkj3jEa"
      },
      "source": [
        "## Download and prepare the dataset\n",
        "\n",
        "We'll use a language dataset provided by http://www.manythings.org/anki/. This dataset contains language translation pairs in the format:\n",
        "\n",
        "```\n",
        "May I borrow this book?\t¿Puedo tomar prestado este libro?\n",
        "```\n",
        "\n",
        "There are a variety of languages available, but we'll use the English-Spanish dataset. For convenience, we've hosted a copy of this dataset on Google Cloud, but you can also download your own copy. After downloading the dataset, here are the steps we'll take to prepare the data:\n",
        "\n",
        "1. Add a *start* and *end* token to each sentence.\n",
        "2. Clean the sentences by removing special characters.\n",
        "3. Create a word index and reverse word index (dictionaries mapping from word → id and id → word).\n",
        "4. Pad each sentence to a maximum length."
      ]
    },
    {
      "cell_type": "code",
      "execution_count": 2,
      "metadata": {
        "ExecuteTime": {
          "end_time": "2020-05-23T05:04:39.784049Z",
          "start_time": "2020-05-23T05:04:39.781350Z"
        },
        "id": "ZqB-Ny5XZJCx"
      },
      "outputs": [],
      "source": [
        "arabic_data = \"http://www.manythings.org/anki/ara-eng.zip\""
      ]
    },
    {
      "cell_type": "code",
      "execution_count": 3,
      "metadata": {
        "ExecuteTime": {
          "end_time": "2020-05-23T05:04:39.865268Z",
          "start_time": "2020-05-23T05:04:39.785527Z"
        },
        "id": "kRVATYOgJs1b",
        "colab": {
          "base_uri": "https://localhost:8080/"
        },
        "outputId": "378aaa01-703c-4452-8c80-fa294e33d548"
      },
      "outputs": [
        {
          "output_type": "stream",
          "name": "stdout",
          "text": [
            "Downloading data from http://storage.googleapis.com/download.tensorflow.org/data/spa-eng.zip\n",
            "2638744/2638744 [==============================] - 0s 0us/step\n"
          ]
        }
      ],
      "source": [
        "# Download the file\n",
        "path_to_zip = tf.keras.utils.get_file(\n",
        "    'spa-eng.zip', origin='http://storage.googleapis.com/download.tensorflow.org/data/spa-eng.zip',\n",
        "    extract=True)\n",
        "\n",
        "path_to_file = os.path.dirname(path_to_zip)+\"/spa-eng/spa.txt\""
      ]
    },
    {
      "cell_type": "code",
      "source": [
        "# Converts a Unicode string to ASCII by normalizing and removing diacritics.\n",
        "def unicode_to_ascii(s):\n",
        "    return ''.join(c for c in unicodedata.normalize('NFD', s)\n",
        "                   if unicodedata.category(c) != 'Mn')\n"
      ],
      "metadata": {
        "id": "yMIJySbBjtlX"
      },
      "execution_count": 4,
      "outputs": []
    },
    {
      "cell_type": "markdown",
      "source": [
        "Function Explanation:\n",
        "\n",
        "* unicode_to_ascii is a function that takes a Unicode string s as input.\n",
        "\n",
        "* It uses the unicodedata.normalize function to normalize the Unicode string, which decomposes characters with diacritics into their base characters (e.g., converting accented characters to their non-accented counterparts).\n",
        "\n",
        "* The if unicodedata.category(c) != 'Mn' condition filters out characters with the category 'Mn' (Mark, Nonspacing) which includes diacritics.\n",
        "\n",
        "* The function returns the Unicode string converted to ASCII without diacritics."
      ],
      "metadata": {
        "id": "zDsfR2mwj0Yz"
      }
    },
    {
      "cell_type": "code",
      "source": [
        "# Define the Unicode string with diacritics\n",
        "unicode_string = \"Thérè àrè sômè àccèntéd characters hère.\"\n",
        "\n",
        "# Call the unicode_to_ascii function to convert it to ASCII\n",
        "ascii_string = unicode_to_ascii(unicode_string)\n",
        "\n",
        "# Print the result\n",
        "print(ascii_string)\n"
      ],
      "metadata": {
        "colab": {
          "base_uri": "https://localhost:8080/"
        },
        "id": "VN-a-7WTl7KN",
        "outputId": "d2f638dc-5bc4-4cce-9112-339f53d8ed74"
      },
      "execution_count": 6,
      "outputs": [
        {
          "output_type": "stream",
          "name": "stdout",
          "text": [
            "There are some accented characters here.\n"
          ]
        }
      ]
    },
    {
      "cell_type": "code",
      "source": [
        "# Add spaces around punctuation to separate them from words.\n",
        "# For example, \"he is a boy.\" becomes \"he is a boy .\"\n",
        "w=\"he is a boy.\"\n",
        "#r\"([?.!,¿])\": This is the pattern to search for a common punctuation marks.\n",
        "#\\1 is a backreference to the captured group in the pattern. In this case, it's the punctuation mark that was matched. So, it effectively replaces the matched punctuation mark with itself.\n",
        "w=re.sub(r\"([?.!,¿])\", r\" \\1 \", w)\n",
        "# replaces multiple spaces with a single space character.\n",
        "re.sub(r'[\" \"]+', \" \", w)"
      ],
      "metadata": {
        "colab": {
          "base_uri": "https://localhost:8080/",
          "height": 36
        },
        "id": "hGx7sW0HoM1G",
        "outputId": "24cce587-302c-4a52-9688-7d024c5df1fa"
      },
      "execution_count": 15,
      "outputs": [
        {
          "output_type": "execute_result",
          "data": {
            "text/plain": [
              "'he is a boy . '"
            ],
            "application/vnd.google.colaboratory.intrinsic+json": {
              "type": "string"
            }
          },
          "metadata": {},
          "execution_count": 15
        }
      ]
    },
    {
      "cell_type": "code",
      "source": [
        "def preprocess_sentence(w):\n",
        "    # Call unicode_to_ascii func then Convert the sentence to lowercase and remove leading/trailing whitespace.\n",
        "    w = unicode_to_ascii(w.lower().strip())\n",
        "\n",
        "    # Add spaces around punctuation to separate them from words.\n",
        "    # For example, \"he is a boy.\" becomes \"he is a boy .\"\n",
        "    w = re.sub(r\"([?.!,¿])\", r\" \\1 \", w)\n",
        "    w = re.sub(r'[\" \"]+', \" \", w)\n",
        "\n",
        "    # Replace characters that are not letters or common punctuation marks with a space.\n",
        "    w = re.sub(r\"[^a-zA-Z?.!,¿]+\", \" \", w)\n",
        "\n",
        "    # Remove leading and trailing spaces.\n",
        "    w = w.strip()\n",
        "\n",
        "    # Add special tokens '<start>' and '<end>' to mark the beginning and end of a sentence.\n",
        "    w = '<start> ' + w + ' <end>'\n",
        "    return w\n"
      ],
      "metadata": {
        "id": "YgkCWzL4oHEX"
      },
      "execution_count": 16,
      "outputs": []
    },
    {
      "cell_type": "code",
      "execution_count": 17,
      "metadata": {
        "ExecuteTime": {
          "end_time": "2020-05-23T05:04:39.888923Z",
          "start_time": "2020-05-23T05:04:39.872985Z"
        },
        "id": "opI2GzOt479E",
        "colab": {
          "base_uri": "https://localhost:8080/"
        },
        "outputId": "85d49e24-2da6-4a2a-c697-c99c254ba235"
      },
      "outputs": [
        {
          "output_type": "stream",
          "name": "stdout",
          "text": [
            "<start> may i borrow this book ? <end>\n",
            "b'<start> \\xc2\\xbf puedo tomar prestado este libro ? <end>'\n"
          ]
        }
      ],
      "source": [
        "# Define an English sentence with punctuation.\n",
        "en_sentence = u\"May I borrow this book?\"\n",
        "\n",
        "# Define a Spanish sentence with punctuation and a special character (\"¿\").\n",
        "sp_sentence = u\"¿Puedo tomar prestado este libro?\"\n",
        "\n",
        "# Preprocess and print the English sentence.\n",
        "print(preprocess_sentence(en_sentence))\n",
        "\n",
        "# Preprocess the Spanish sentence and encode it in UTF-8 for printing.\n",
        "print(preprocess_sentence(sp_sentence).encode('utf-8'))\n"
      ]
    },
    {
      "cell_type": "code",
      "execution_count": 26,
      "metadata": {
        "ExecuteTime": {
          "end_time": "2020-05-23T05:04:39.895015Z",
          "start_time": "2020-05-23T05:04:39.890266Z"
        },
        "id": "OHn4Dct23jEm"
      },
      "outputs": [],
      "source": [
        "# This function creates a dataset by reading data from a file and preprocessing it.\n",
        "# The preprocessing steps include removing accents, cleaning the sentences, and formatting the data as word pairs.\n",
        "# The function returns the word pairs in the format [ENGLISH, SPANISH].\n",
        "\n",
        "def create_dataset(path, num_examples):\n",
        "    # Read and split the lines from the file, assuming UTF-8 encoding.\n",
        "    lines = io.open(path, encoding='UTF-8').read().strip().split('\\n')\n",
        "\n",
        "    # Preprocess each line and create word pairs.\n",
        "    word_pairs = [[preprocess_sentence(w) for w in l.split('\\t')] for l in lines[:num_examples]]\n",
        "\n",
        "    # Return the word pairs as separate lists (unzipped).\n",
        "    return zip(*word_pairs)\n"
      ]
    },
    {
      "cell_type": "markdown",
      "source": [
        "Example of a word_pairs list :\n",
        "\n",
        "    word_pairs = [\n",
        "        ['<start> i like pizza . <end>', '<start> me gusta la pizza . <end>'],\n",
        "        ['<start> she speaks french . <end>', '<start> ella habla francés . <end>'],\n",
        "        ['<start> cats are cute . <end>', '<start> los gatos son lindos . <end>'],\n",
        "        # ... (more pairs)\n",
        "    ]"
      ],
      "metadata": {
        "id": "KXO67kfzukxe"
      }
    },
    {
      "cell_type": "code",
      "execution_count": 27,
      "metadata": {
        "ExecuteTime": {
          "end_time": "2020-05-23T05:04:44.810519Z",
          "start_time": "2020-05-23T05:04:39.896426Z"
        },
        "id": "cTbSbBz55QtF",
        "colab": {
          "base_uri": "https://localhost:8080/"
        },
        "outputId": "fb7622fd-bfc0-4978-ce79-7583ea438a5e"
      },
      "outputs": [
        {
          "output_type": "stream",
          "name": "stdout",
          "text": [
            "<start> if you want to sound like a native speaker , you must be willing to practice saying the same sentence over and over in the same way that banjo players practice the same phrase over and over until they can play it correctly and at the desired tempo . <end>\n",
            "<start> si quieres sonar como un hablante nativo , debes estar dispuesto a practicar diciendo la misma frase una y otra vez de la misma manera en que un musico de banjo practica el mismo fraseo una y otra vez hasta que lo puedan tocar correctamente y en el tiempo esperado . <end>\n"
          ]
        }
      ],
      "source": [
        "# Create a dataset by calling the create_dataset function, providing the path to a file and requesting all available examples.\n",
        "en, sp = create_dataset(path_to_file, None)\n",
        "\n",
        "# Print the last example (English) in the dataset.\n",
        "print(en[-1])\n",
        "\n",
        "# Print the last example (Spanish) in the dataset.\n",
        "print(sp[-1])\n"
      ]
    },
    {
      "cell_type": "code",
      "execution_count": 28,
      "metadata": {
        "ExecuteTime": {
          "end_time": "2020-05-23T05:04:44.818126Z",
          "start_time": "2020-05-23T05:04:44.813227Z"
        },
        "id": "bIOn8RCNDJXG"
      },
      "outputs": [],
      "source": [
        "# This function tokenizes a language by converting text sentences into numerical tensors.\n",
        "# It also creates a tokenizer to map words to numeric indices.\n",
        "\n",
        "def tokenize(lang):\n",
        "    # Create a tokenizer for the specified language.\n",
        "    lang_tokenizer = tf.keras.preprocessing.text.Tokenizer(\n",
        "      filters='')\n",
        "\n",
        "    # Fit the tokenizer on the language data to build the word-to-index mapping.\n",
        "    lang_tokenizer.fit_on_texts(lang)\n",
        "\n",
        "    # Convert text sentences to sequences of integers using the tokenizer.\n",
        "    tensor = lang_tokenizer.texts_to_sequences(lang)\n",
        "\n",
        "    # Pad the sequences to have the same length (padding at the end).\n",
        "    tensor = tf.keras.preprocessing.sequence.pad_sequences(tensor,\n",
        "                                                         padding='post')\n",
        "\n",
        "    # Return the padded tensor and the language tokenizer.\n",
        "    return tensor, lang_tokenizer\n"
      ]
    },
    {
      "cell_type": "code",
      "execution_count": 29,
      "metadata": {
        "ExecuteTime": {
          "end_time": "2020-05-23T05:04:44.826849Z",
          "start_time": "2020-05-23T05:04:44.820919Z"
        },
        "id": "eAY9k49G3jE_"
      },
      "outputs": [],
      "source": [
        "# This function loads and preprocesses a dataset from a file, creating input-output pairs.\n",
        "# It tokenizes both the input and target languages and returns the processed data and tokenizers.\n",
        "\n",
        "def load_dataset(path, num_examples=None):\n",
        "    # Create cleaned input and target pairs using create_dataset function.\n",
        "    targ_lang, inp_lang = create_dataset(path, num_examples)\n",
        "\n",
        "    # Tokenize the input language and get the tokenizer.\n",
        "    input_tensor, inp_lang_tokenizer = tokenize(inp_lang)\n",
        "\n",
        "    # Tokenize the target language and get the tokenizer.\n",
        "    target_tensor, targ_lang_tokenizer = tokenize(targ_lang)\n",
        "\n",
        "    # Return the tokenized input and target tensors, and their respective tokenizers.\n",
        "    return input_tensor, target_tensor, inp_lang_tokenizer, targ_lang_tokenizer\n"
      ]
    },
    {
      "cell_type": "markdown",
      "metadata": {
        "id": "GOi42V79Ydlr"
      },
      "source": [
        "### Limit the size of the dataset to experiment faster (optional)\n",
        "\n",
        "Training on the complete dataset of >100,000 sentences will take a long time. To train faster, we can limit the size of the dataset to 30,000 sentences (of course, translation quality degrades with less data):"
      ]
    },
    {
      "cell_type": "code",
      "execution_count": 36,
      "metadata": {
        "ExecuteTime": {
          "end_time": "2020-05-23T05:04:46.921820Z",
          "start_time": "2020-05-23T05:04:44.829172Z"
        },
        "id": "cnxC7q-j3jFD",
        "colab": {
          "base_uri": "https://localhost:8080/"
        },
        "outputId": "9f8e6728-0060-47b9-e8e6-8bd96719e9f7"
      },
      "outputs": [
        {
          "output_type": "stream",
          "name": "stdout",
          "text": [
            "11\n",
            "16\n"
          ]
        }
      ],
      "source": [
        "# Experiment with the size of the dataset by setting the number of examples.\n",
        "num_examples = 30000\n",
        "\n",
        "# Load the dataset with the specified number of examples.\n",
        "input_tensor, target_tensor, inp_lang, targ_lang = load_dataset(path_to_file, num_examples)\n",
        "\n",
        "# Calculate and print the maximum lengths of target and input tensors.\n",
        "max_length_targ, max_length_inp = target_tensor.shape[1], input_tensor.shape[1]\n",
        "\n",
        "# Print the maximum length of the target tensors.\n",
        "print(max_length_targ)\n",
        "\n",
        "# Print the maximum length of the input tensors.\n",
        "print(max_length_inp)\n"
      ]
    },
    {
      "cell_type": "code",
      "execution_count": 37,
      "metadata": {
        "ExecuteTime": {
          "end_time": "2020-05-23T05:04:46.933564Z",
          "start_time": "2020-05-23T05:04:46.923155Z"
        },
        "id": "4QILQkOs3jFG",
        "colab": {
          "base_uri": "https://localhost:8080/"
        },
        "outputId": "7bc85f3c-c4ec-48de-8c7a-bacc0346632e"
      },
      "outputs": [
        {
          "output_type": "stream",
          "name": "stdout",
          "text": [
            "24000 24000 6000 6000\n"
          ]
        }
      ],
      "source": [
        "# Creating training and validation sets using an 80-20 split\n",
        "input_tensor_train, input_tensor_val, target_tensor_train, target_tensor_val = train_test_split(input_tensor, target_tensor, test_size=0.2)\n",
        "\n",
        "# Show length\n",
        "print(len(input_tensor_train), len(target_tensor_train), len(input_tensor_val), len(target_tensor_val))"
      ]
    },
    {
      "cell_type": "code",
      "execution_count": 38,
      "metadata": {
        "ExecuteTime": {
          "end_time": "2020-05-23T05:04:46.939774Z",
          "start_time": "2020-05-23T05:04:46.935393Z"
        },
        "id": "lJPmLZGMeD5q"
      },
      "outputs": [],
      "source": [
        "# This function converts a tensor of numeric indices back into human-readable text using a language's index-to-word mapping.\n",
        "\n",
        "def convert(lang, tensor):\n",
        "    # Iterate through each element in the tensor.\n",
        "    for t in tensor:\n",
        "        # Check if the element is not equal to 0 (0 typically represents padding).\n",
        "        if t != 0:\n",
        "            # Print the numeric index and its corresponding word from the language's index-to-word mapping.\n",
        "            print (\"%d ----> %s\" % (t, lang.index_word[t]))\n"
      ]
    },
    {
      "cell_type": "code",
      "execution_count": 39,
      "metadata": {
        "ExecuteTime": {
          "end_time": "2020-05-23T05:04:46.949440Z",
          "start_time": "2020-05-23T05:04:46.942020Z"
        },
        "id": "VXukARTDd7MT",
        "colab": {
          "base_uri": "https://localhost:8080/"
        },
        "outputId": "41fa5b70-aff6-438f-fcb0-44a2cb495758"
      },
      "outputs": [
        {
          "output_type": "stream",
          "name": "stdout",
          "text": [
            "Input Language; index to word mapping\n",
            "1 ----> <start>\n",
            "4 ----> tom\n",
            "143 ----> podria\n",
            "1507 ----> caer\n",
            "255 ----> enfermo\n",
            "3 ----> .\n",
            "2 ----> <end>\n",
            "\n",
            "Target Language; index to word mapping\n",
            "1 ----> <start>\n",
            "5 ----> tom\n",
            "292 ----> might\n",
            "64 ----> get\n",
            "232 ----> sick\n",
            "3 ----> .\n",
            "2 ----> <end>\n"
          ]
        }
      ],
      "source": [
        "# Print the index-to-word mapping for the input language.\n",
        "print(\"Input Language; index to word mapping\")\n",
        "# Convert and display the first sequence in the input tensor.\n",
        "convert(inp_lang, input_tensor_train[0])\n",
        "\n",
        "# Print an empty line for clarity.\n",
        "print()\n",
        "\n",
        "# Print the index-to-word mapping for the target language.\n",
        "print(\"Target Language; index to word mapping\")\n",
        "# Convert and display the first sequence in the target tensor.\n",
        "convert(targ_lang, target_tensor_train[0])\n"
      ]
    },
    {
      "cell_type": "markdown",
      "metadata": {
        "id": "rgCLkfv5uO3d"
      },
      "source": [
        "### Create a tf.data dataset"
      ]
    },
    {
      "cell_type": "code",
      "execution_count": 40,
      "metadata": {
        "ExecuteTime": {
          "end_time": "2020-05-23T05:04:47.087742Z",
          "start_time": "2020-05-23T05:04:46.950852Z"
        },
        "id": "TqHsArVZ3jFS"
      },
      "outputs": [],
      "source": [
        "# Define the buffer size for shuffling the dataset.\n",
        "BUFFER_SIZE = len(input_tensor_train)\n",
        "\n",
        "# Define the batch size for training.\n",
        "BATCH_SIZE = 64\n",
        "\n",
        "# Calculate the number of steps per epoch for training.\n",
        "steps_per_epoch = len(input_tensor_train) // BATCH_SIZE\n",
        "\n",
        "# Define the embedding dimension for the model.\n",
        "embedding_dim = 256\n",
        "\n",
        "# Define the number of units (or neurons) in the model.\n",
        "units = 1024\n",
        "\n",
        "# Calculate the vocabulary size for the input language, including an extra token for padding.\n",
        "vocab_inp_size = len(inp_lang.word_index) + 1\n",
        "\n",
        "# Calculate the vocabulary size for the target language, including an extra token for padding.\n",
        "vocab_tar_size = len(targ_lang.word_index) + 1\n",
        "\n",
        "# Create a TensorFlow dataset from the input and target tensors, and shuffle the data.\n",
        "dataset = tf.data.Dataset.from_tensor_slices((input_tensor_train, target_tensor_train)).shuffle(BUFFER_SIZE)\n",
        "\n",
        "# Create batches of data with the specified batch size, dropping any remaining examples if the batch size doesn't evenly divide the dataset.\n",
        "dataset = dataset.batch(BATCH_SIZE, drop_remainder=True)\n"
      ]
    },
    {
      "cell_type": "code",
      "execution_count": 41,
      "metadata": {
        "ExecuteTime": {
          "end_time": "2020-05-23T05:04:47.134066Z",
          "start_time": "2020-05-23T05:04:47.089461Z"
        },
        "id": "qc6-NK1GtWQt",
        "colab": {
          "base_uri": "https://localhost:8080/"
        },
        "outputId": "e70dc25a-943b-441e-da07-72d89c81b976"
      },
      "outputs": [
        {
          "output_type": "stream",
          "name": "stdout",
          "text": [
            "Shape of the input batch: (64, 16)\n",
            "Shape of the target batch: (64, 11)\n"
          ]
        }
      ],
      "source": [
        "# Get the next batch of input and target data from the dataset.\n",
        "example_input_batch, example_target_batch = next(iter(dataset))\n",
        "\n",
        "# Print the shapes of the input and target batches.\n",
        "print(\"Shape of the input batch:\", example_input_batch.shape)\n",
        "print(\"Shape of the target batch:\", example_target_batch.shape)\n"
      ]
    },
    {
      "cell_type": "markdown",
      "metadata": {
        "id": "TNfHIF71ulLu"
      },
      "source": [
        "## Write the encoder and decoder model\n",
        "\n",
        "Implement an encoder-decoder model with attention which you can read about in the TensorFlow [Neural Machine Translation (seq2seq) tutorial](https://github.com/tensorflow/nmt). This example uses a more recent set of APIs. This notebook implements the [attention equations](https://github.com/tensorflow/nmt#background-on-the-attention-mechanism) from the seq2seq tutorial. The following diagram shows that each input words is assigned a weight by the attention mechanism which is then used by the decoder to predict the next word in the sentence. The below picture and formulas are an example of attention mechanism from [Luong's paper](https://arxiv.org/abs/1508.04025v5).\n",
        "\n",
        "<img src=\"https://www.tensorflow.org/images/seq2seq/attention_mechanism.jpg\" width=\"500\" alt=\"attention mechanism\">\n",
        "\n",
        "The input is put through an encoder model which gives us the encoder output of shape *(batch_size, max_length, hidden_size)* and the encoder hidden state of shape *(batch_size, hidden_size)*.\n",
        "\n",
        "Here are the equations that are implemented:\n",
        "\n",
        "<img src=\"https://www.tensorflow.org/images/seq2seq/attention_equation_0.jpg\" alt=\"attention equation 0\" width=\"800\">\n",
        "<img src=\"https://www.tensorflow.org/images/seq2seq/attention_equation_1.jpg\" alt=\"attention equation 1\" width=\"800\">\n",
        "\n",
        "This tutorial uses [Bahdanau attention](https://arxiv.org/pdf/1409.0473.pdf) for the encoder. Let's decide on notation before writing the simplified form:\n",
        "\n",
        "* FC = Fully connected (dense) layer\n",
        "* EO = Encoder output\n",
        "* H = hidden state\n",
        "* X = input to the decoder\n",
        "\n",
        "And the pseudo-code:\n",
        "\n",
        "* `score = FC(tanh(FC(EO) + FC(H)))`\n",
        "* `attention weights = softmax(score, axis = 1)`. Softmax by default is applied on the last axis but here we want to apply it on the *1st axis*, since the shape of score is *(batch_size, max_length, hidden_size)*. `Max_length` is the length of our input. Since we are trying to assign a weight to each input, softmax should be applied on that axis.\n",
        "* `context vector = sum(attention weights * EO, axis = 1)`. Same reason as above for choosing axis as 1.\n",
        "* `embedding output` = The input to the decoder X is passed through an embedding layer.\n",
        "* `merged vector = concat(embedding output, context vector)`\n",
        "* This merged vector is then given to the GRU\n",
        "\n",
        "The shapes of all the vectors at each step have been specified in the comments in the code:"
      ]
    },
    {
      "cell_type": "code",
      "execution_count": 42,
      "metadata": {
        "ExecuteTime": {
          "end_time": "2020-05-23T05:04:47.140442Z",
          "start_time": "2020-05-23T05:04:47.135527Z"
        },
        "id": "nZ2rI24i3jFg"
      },
      "outputs": [],
      "source": [
        "# Define the Encoder class for the sequence-to-sequence model.\n",
        "class Encoder(tf.keras.Model):\n",
        "    def __init__(self, vocab_size, embedding_dim, enc_units, batch_sz):\n",
        "        super(Encoder, self).__init__()\n",
        "        # Store the batch size and encoder units for later use.\n",
        "        self.batch_sz = batch_sz\n",
        "        self.enc_units = enc_units\n",
        "\n",
        "        # Create an embedding layer for word embeddings.\n",
        "        self.embedding = tf.keras.layers.Embedding(vocab_size, embedding_dim)\n",
        "\n",
        "        # Create a GRU (Gated Recurrent Unit) layer for encoding sequences.\n",
        "        self.gru = tf.keras.layers.GRU(self.enc_units,\n",
        "                                       return_sequences=True,\n",
        "                                       return_state=True,\n",
        "                                       recurrent_initializer='glorot_uniform')\n",
        "\n",
        "    # Define the forward pass of the Encoder.\n",
        "    def call(self, x, hidden):\n",
        "        # Pass the input sequence through the embedding layer.\n",
        "        x = self.embedding(x)\n",
        "\n",
        "        # Pass the embedded sequence through the GRU layer, initializing with the provided hidden state.\n",
        "        output, state = self.gru(x, initial_state=hidden)\n",
        "\n",
        "        # Return the output sequence and the final state of the GRU.\n",
        "        return output, state\n",
        "\n",
        "    # Initialize the hidden state to zeros.\n",
        "    def initialize_hidden_state(self):\n",
        "        return tf.zeros((self.batch_sz, self.enc_units))\n"
      ]
    },
    {
      "cell_type": "code",
      "execution_count": 43,
      "metadata": {
        "ExecuteTime": {
          "end_time": "2020-05-23T05:04:48.163394Z",
          "start_time": "2020-05-23T05:04:47.142016Z"
        },
        "id": "60gSVh05Jl6l",
        "colab": {
          "base_uri": "https://localhost:8080/"
        },
        "outputId": "8955515d-b7e6-4ada-c9cc-a41273aead48"
      },
      "outputs": [
        {
          "output_type": "stream",
          "name": "stdout",
          "text": [
            "Encoder output shape: (batch size, sequence length, units) (64, 16, 1024)\n",
            "Encoder Hidden state shape: (batch size, units) (64, 1024)\n"
          ]
        }
      ],
      "source": [
        "# Create an instance of the Encoder class with specified parameters.\n",
        "encoder = Encoder(vocab_inp_size, embedding_dim, units, BATCH_SIZE)\n",
        "\n",
        "# Initialize a sample hidden state for the encoder.\n",
        "sample_hidden = encoder.initialize_hidden_state()\n",
        "\n",
        "# Pass a sample input batch through the encoder to get output and updated hidden state.\n",
        "sample_output, sample_hidden = encoder(example_input_batch, sample_hidden)\n",
        "\n",
        "# Print the shapes of the encoder output and hidden state for illustration.\n",
        "print ('Encoder output shape: (batch size, sequence length, units) {}'.format(sample_output.shape))\n",
        "print ('Encoder Hidden state shape: (batch size, units) {}'.format(sample_hidden.shape))\n"
      ]
    },
    {
      "cell_type": "code",
      "execution_count": 45,
      "metadata": {
        "ExecuteTime": {
          "end_time": "2020-05-23T05:04:48.169786Z",
          "start_time": "2020-05-23T05:04:48.164769Z"
        },
        "id": "umohpBN2OM94"
      },
      "outputs": [],
      "source": [
        "class BahdanauAttention(tf.keras.layers.Layer):\n",
        "    def __init__(self, units):\n",
        "        super(BahdanauAttention, self).__init__()\n",
        "        self.W1 = tf.keras.layers.Dense(units)\n",
        "        self.W2 = tf.keras.layers.Dense(units)\n",
        "        self.V = tf.keras.layers.Dense(1)\n",
        "\n",
        "    def call(self, query, values):\n",
        "        # query hidden state shape == (batch_size, hidden size)\n",
        "        # query_with_time_axis shape == (batch_size, 1, hidden size)\n",
        "        # values shape == (batch_size, max_len, hidden size)\n",
        "        # we are doing this to broadcast addition along the time axis to calculate the score\n",
        "        query_with_time_axis = tf.expand_dims(query, 1)\n",
        "\n",
        "        # score shape == (batch_size, max_length, 1)\n",
        "        # we get 1 at the last axis because we are applying score to self.V\n",
        "        # the shape of the tensor before applying self.V is (batch_size, max_length, units)\n",
        "        score = self.V(tf.nn.tanh(\n",
        "            self.W1(query_with_time_axis) + self.W2(values)))\n",
        "\n",
        "        # attention_weights shape == (batch_size, max_length, 1)\n",
        "        attention_weights = tf.nn.softmax(score, axis=1)\n",
        "\n",
        "        # context_vector shape after sum == (batch_size, hidden_size)\n",
        "        context_vector = attention_weights * values\n",
        "        context_vector = tf.reduce_sum(context_vector, axis=1)\n",
        "\n",
        "        return context_vector, attention_weights"
      ]
    },
    {
      "cell_type": "code",
      "execution_count": 46,
      "metadata": {
        "ExecuteTime": {
          "end_time": "2020-05-23T05:04:48.372827Z",
          "start_time": "2020-05-23T05:04:48.170909Z"
        },
        "id": "k534zTHiDjQU",
        "colab": {
          "base_uri": "https://localhost:8080/"
        },
        "outputId": "fb6e2aa1-7985-4790-81f7-4230f0edaec8"
      },
      "outputs": [
        {
          "output_type": "stream",
          "name": "stdout",
          "text": [
            "Attention result shape: (batch size, units) (64, 1024)\n",
            "Attention weights shape: (batch_size, sequence_length, 1) (64, 16, 1)\n"
          ]
        }
      ],
      "source": [
        "# Create an instance of the BahdanauAttention layer with 10 units.\n",
        "attention_layer = BahdanauAttention(10)\n",
        "\n",
        "# Calculate attention results and weights using a sample hidden state and output.\n",
        "attention_result, attention_weights = attention_layer(sample_hidden, sample_output)\n",
        "\n",
        "# Print the shapes of the attention result and weights for illustration.\n",
        "print(\"Attention result shape: (batch size, units) {}\".format(attention_result.shape))\n",
        "print(\"Attention weights shape: (batch_size, sequence_length, 1) {}\".format(attention_weights.shape))\n"
      ]
    },
    {
      "cell_type": "code",
      "execution_count": 47,
      "metadata": {
        "ExecuteTime": {
          "end_time": "2020-05-23T05:04:48.382573Z",
          "start_time": "2020-05-23T05:04:48.374558Z"
        },
        "id": "yJ_B3mhW3jFk"
      },
      "outputs": [],
      "source": [
        "# Define the Decoder class for the sequence-to-sequence model.\n",
        "class Decoder(tf.keras.Model):\n",
        "    def __init__(self, vocab_size, embedding_dim, dec_units, batch_sz):\n",
        "        super(Decoder, self).__init__()\n",
        "        # Store the batch size and decoder units for later use.\n",
        "        self.batch_sz = batch_sz\n",
        "        self.dec_units = dec_units\n",
        "\n",
        "        # Create an embedding layer for word embeddings.\n",
        "        self.embedding = tf.keras.layers.Embedding(vocab_size, embedding_dim)\n",
        "\n",
        "        # Create a GRU (Gated Recurrent Unit) layer for decoding sequences.\n",
        "        self.gru = tf.keras.layers.GRU(self.dec_units,\n",
        "                                       return_sequences=True,\n",
        "                                       return_state=True,\n",
        "                                       recurrent_initializer='glorot_uniform')\n",
        "\n",
        "        # Create a fully connected layer for generating output tokens.\n",
        "        self.fc = tf.keras.layers.Dense(vocab_size)\n",
        "\n",
        "        # Create an attention mechanism using BahdanauAttention.\n",
        "        self.attention = BahdanauAttention(self.dec_units)\n",
        "\n",
        "    # Define the forward pass of the Decoder.\n",
        "    def call(self, x, hidden, enc_output):\n",
        "        # Calculate context vector and attention weights using the attention mechanism.\n",
        "        context_vector, attention_weights = self.attention(hidden, enc_output)\n",
        "\n",
        "        # Pass the input token through the embedding layer.\n",
        "        x = self.embedding(x)\n",
        "\n",
        "        # Concatenate the context vector and embedded token.\n",
        "        x = tf.concat([tf.expand_dims(context_vector, 1), x], axis=-1)\n",
        "\n",
        "        # Pass the concatenated vector through the GRU layer.\n",
        "        output, state = self.gru(x)\n",
        "\n",
        "        # Reshape the output for further processing.\n",
        "        output = tf.reshape(output, (-1, output.shape[2]))\n",
        "\n",
        "        # Generate the output token probabilities using the fully connected layer.\n",
        "        x = self.fc(output)\n",
        "\n",
        "        return x, state, attention_weights\n"
      ]
    },
    {
      "cell_type": "code",
      "execution_count": 48,
      "metadata": {
        "ExecuteTime": {
          "end_time": "2020-05-23T05:04:48.437177Z",
          "start_time": "2020-05-23T05:04:48.383990Z"
        },
        "id": "P5UY8wko3jFp",
        "colab": {
          "base_uri": "https://localhost:8080/"
        },
        "outputId": "4fba6010-2081-4e4f-d31e-01a989195669"
      },
      "outputs": [
        {
          "output_type": "stream",
          "name": "stdout",
          "text": [
            "Decoder output shape: (batch_size, vocab size) (64, 4935)\n"
          ]
        }
      ],
      "source": [
        "# Create an instance of the Decoder class with specified parameters.\n",
        "decoder = Decoder(vocab_tar_size, embedding_dim, units, BATCH_SIZE)\n",
        "\n",
        "# Generate a sample decoder output using random input.\n",
        "sample_decoder_output, _, _ = decoder(tf.random.uniform((BATCH_SIZE, 1)),\n",
        "                                      sample_hidden, sample_output)\n",
        "\n",
        "# Print the shape of the decoder output for illustration.\n",
        "print ('Decoder output shape: (batch_size, vocab size) {}'.format(sample_decoder_output.shape))\n"
      ]
    },
    {
      "cell_type": "markdown",
      "metadata": {
        "id": "_ch_71VbIRfK"
      },
      "source": [
        "## Define the optimizer and the loss function"
      ]
    },
    {
      "cell_type": "code",
      "execution_count": 49,
      "metadata": {
        "ExecuteTime": {
          "end_time": "2020-05-23T05:04:48.444291Z",
          "start_time": "2020-05-23T05:04:48.438642Z"
        },
        "id": "aW1hj-70ZJC5"
      },
      "outputs": [],
      "source": [
        "# Create a boolean list 'x' containing True and False values.\n",
        "x = [True, True, False]\n",
        "\n",
        "# Use TensorFlow's tf.math.logical_not function to compute the logical NOT operation on each element of 'x'.\n",
        "# It negates True to False and False to True.\n",
        "result = tf.math.logical_not(x)\n"
      ]
    },
    {
      "cell_type": "code",
      "execution_count": 50,
      "metadata": {
        "ExecuteTime": {
          "end_time": "2020-05-23T05:04:48.452071Z",
          "start_time": "2020-05-23T05:04:48.447219Z"
        },
        "id": "WmTHr5iV3jFr"
      },
      "outputs": [],
      "source": [
        "# Create an instance of the Adam optimizer from TensorFlow for model optimization.\n",
        "optimizer = tf.keras.optimizers.Adam()\n",
        "\n",
        "# Create a loss object using Sparse Categorical Cross-Entropy loss function.\n",
        "# Set 'from_logits=True' to indicate that the model produces logits (raw scores) as output.\n",
        "# 'reduction' specifies how to compute the final loss, and 'none' means no reduction.\n",
        "loss_object = tf.keras.losses.SparseCategoricalCrossentropy(\n",
        "    from_logits=True, reduction='none')\n",
        "\n",
        "# Define a custom loss function for the sequence-to-sequence model.\n",
        "def loss_function(real, pred):\n",
        "    # Create a mask to identify non-padding elements in the target sequences.\n",
        "    mask = tf.math.logical_not(tf.math.equal(real, 0))\n",
        "\n",
        "    # Calculate the initial loss using the loss_object.\n",
        "    loss_ = loss_object(real, pred)\n",
        "\n",
        "    # Convert the mask to the same data type as the loss for element-wise multiplication.\n",
        "    mask = tf.cast(mask, dtype=loss_.dtype)\n",
        "\n",
        "    # Apply the mask to the loss to ignore padding elements in the loss calculation.\n",
        "    loss_ *= mask\n",
        "\n",
        "    # Calculate the mean of the masked loss to get the final loss value.\n",
        "    return tf.reduce_mean(loss_)\n"
      ]
    },
    {
      "cell_type": "markdown",
      "metadata": {
        "id": "DMVWzzsfNl4e"
      },
      "source": [
        "## Checkpoints (Object-based saving)"
      ]
    },
    {
      "cell_type": "code",
      "execution_count": 51,
      "metadata": {
        "ExecuteTime": {
          "end_time": "2020-05-23T05:04:48.459277Z",
          "start_time": "2020-05-23T05:04:48.453467Z"
        },
        "id": "Zj8bXQTgNwrF"
      },
      "outputs": [],
      "source": [
        "# Specify the directory where training checkpoints will be saved.\n",
        "checkpoint_dir = './training_checkpoints'\n",
        "\n",
        "# Create a checkpoint prefix to be used for naming checkpoint files.\n",
        "checkpoint_prefix = os.path.join(checkpoint_dir, \"ckpt\")\n",
        "\n",
        "# Create a TensorFlow Checkpoint object to save and restore model-related variables.\n",
        "checkpoint = tf.train.Checkpoint(optimizer=optimizer,\n",
        "                                 encoder=encoder,\n",
        "                                 decoder=decoder)\n"
      ]
    },
    {
      "cell_type": "markdown",
      "metadata": {
        "id": "hpObfY22IddU"
      },
      "source": [
        "## Training\n",
        "\n",
        "1. Pass the *input* through the *encoder* which return *encoder output* and the *encoder hidden state*.\n",
        "2. The encoder output, encoder hidden state and the decoder input (which is the *start token*) is passed to the decoder.\n",
        "3. The decoder returns the *predictions* and the *decoder hidden state*.\n",
        "4. The decoder hidden state is then passed back into the model and the predictions are used to calculate the loss.\n",
        "5. Use *teacher forcing* to decide the next input to the decoder.\n",
        "6. *Teacher forcing* is the technique where the *target word* is passed as the *next input* to the decoder.\n",
        "7. The final step is to calculate the gradients and apply it to the optimizer and backpropagate."
      ]
    },
    {
      "cell_type": "code",
      "execution_count": 52,
      "metadata": {
        "ExecuteTime": {
          "end_time": "2020-05-23T05:04:48.471488Z",
          "start_time": "2020-05-23T05:04:48.464122Z"
        },
        "id": "sC9ArXSsVfqn"
      },
      "outputs": [],
      "source": [
        "# Define a TensorFlow function for training a single step (one batch) of the model.\n",
        "@tf.function\n",
        "def train_step(inp, targ, enc_hidden):\n",
        "    # Initialize the loss.\n",
        "    loss = 0\n",
        "\n",
        "    # Use GradientTape to record operations for automatic differentiation.\n",
        "    with tf.GradientTape() as tape:\n",
        "        # Encode the input sequence.\n",
        "        enc_output, enc_hidden = encoder(inp, enc_hidden)\n",
        "\n",
        "        # Initialize the decoder's hidden state with the encoder's final hidden state.\n",
        "        dec_hidden = enc_hidden\n",
        "\n",
        "        # Initialize the decoder's input with the '<start>' token.\n",
        "        dec_input = tf.expand_dims(\n",
        "            [targ_lang.word_index['<start>']] * BATCH_SIZE, 1)\n",
        "\n",
        "        # Teacher forcing: feeding the target as the next input.\n",
        "        for t in range(1, targ.shape[1]):\n",
        "            # Pass the encoder's output to the decoder.\n",
        "            predictions, dec_hidden, _ = decoder(\n",
        "                dec_input, dec_hidden, enc_output)\n",
        "\n",
        "            # Compute the loss using the loss function.\n",
        "            loss += loss_function(targ[:, t], predictions)\n",
        "\n",
        "            # Use teacher forcing: set the next input to be the true target token.\n",
        "            dec_input = tf.expand_dims(targ[:, t], 1)\n",
        "\n",
        "    # Calculate the batch loss as the average loss over the sequence length.\n",
        "    batch_loss = (loss / int(targ.shape[1]))\n",
        "\n",
        "    # Get all the trainable variables of the encoder and decoder.\n",
        "    variables = encoder.trainable_variables + decoder.trainable_variables\n",
        "\n",
        "    # Compute gradients of the loss with respect to the variables.\n",
        "    gradients = tape.gradient(loss, variables)\n",
        "\n",
        "    # Apply gradients to update the model's trainable variables.\n",
        "    optimizer.apply_gradients(zip(gradients, variables))\n",
        "\n",
        "    return batch_loss\n"
      ]
    },
    {
      "cell_type": "markdown",
      "source": [
        "Function Explanation:\n",
        "\n",
        "@tf.function: This is a decorator for the train_step function, which converts it into a TensorFlow graph for improved performance during training. It optimizes the function by tracing its operations and compiling them into a graph, which can be executed more efficiently.\n",
        "\n",
        "with tf.GradientTape() as tape:: This context manager is used to record operations inside it for automatic differentiation. It allows you to compute gradients with respect to the trainable variables.\n",
        "\n",
        "enc_output, enc_hidden = encoder(inp, enc_hidden): This line encodes the input sequence (inp) using the encoder, producing encoder outputs (enc_output) and the final encoder hidden state (enc_hidden).\n",
        "\n",
        "dec_hidden = enc_hidden: The decoder's initial hidden state is set to the final encoder hidden state, initializing the decoder's state based on the input.\n",
        "\n",
        "dec_input = tf.expand_dims(...): The decoder's initial input is set to the '<start>' token. This line creates a tensor with the '<start>' token repeated for each batch in the input batch.\n",
        "\n",
        "Teacher Forcing Loop: The following loop implements teacher forcing, where the true target tokens are used as inputs to the decoder for training:\n",
        "\n",
        "for t in range(1, targ.shape[1]):: Iterate over the time steps of the target sequence.\n",
        "predictions, dec_hidden, _ = decoder(...): Pass the decoder input, decoder hidden state, and encoder output to the decoder. This generates predictions for the next target tokens and updates the decoder's hidden state.\n",
        "loss += loss_function(...): Compute the loss for the predicted tokens compared to the true target tokens.\n",
        "batch_loss = (loss / int(targ.shape[1])): Calculate the batch loss as the average loss over the sequence length. This ensures that the loss is normalized by the number of time steps in the sequence.\n",
        "\n",
        "variables = encoder.trainable_variables + decoder.trainable_variables: Get all the trainable variables of both the encoder and the decoder.\n",
        "\n",
        "gradients = tape.gradient(loss, variables): Compute gradients of the loss with respect to the trainable variables using the recorded operations within the tf.GradientTape.\n",
        "\n",
        "optimizer.apply_gradients(zip(gradients, variables)): Apply the computed gradients to update the model's trainable variables using the optimizer (Adam in this case).\n",
        "\n",
        "Finally, the function returns the batch_loss, representing the average loss for the current batch. This loss will be used to monitor the training progress and adjust model parameters during training."
      ],
      "metadata": {
        "id": "5baomHPI5bMQ"
      }
    },
    {
      "cell_type": "code",
      "execution_count": 53,
      "metadata": {
        "ExecuteTime": {
          "end_time": "2020-05-21T05:19:36.964681Z",
          "start_time": "2020-05-21T05:06:57.660863Z"
        },
        "id": "ddefjBMa3jF0",
        "scrolled": true,
        "colab": {
          "base_uri": "https://localhost:8080/"
        },
        "outputId": "3b842dec-6205-489f-e7d2-42ee9b682537"
      },
      "outputs": [
        {
          "metadata": {
            "tags": null
          },
          "name": "stdout",
          "output_type": "stream",
          "text": [
            "Epoch 1 Batch 0 Loss 4.4936\n",
            "Epoch 1 Batch 100 Loss 2.1918\n",
            "Epoch 1 Batch 200 Loss 1.7804\n",
            "Epoch 1 Batch 300 Loss 1.7993\n",
            "Epoch 1 Loss 2.0158\n",
            "Time taken for 1 epoch 54.100929975509644 sec\n",
            "\n",
            "Epoch 2 Batch 0 Loss 1.5686\n",
            "Epoch 2 Batch 100 Loss 1.4374\n",
            "Epoch 2 Batch 200 Loss 1.2984\n",
            "Epoch 2 Batch 300 Loss 1.1682\n",
            "Epoch 2 Loss 1.3556\n",
            "Time taken for 1 epoch 27.880091190338135 sec\n",
            "\n",
            "Epoch 3 Batch 0 Loss 1.0614\n",
            "Epoch 3 Batch 100 Loss 1.0219\n",
            "Epoch 3 Batch 200 Loss 0.9446\n",
            "Epoch 3 Batch 300 Loss 0.7682\n",
            "Epoch 3 Loss 0.9243\n",
            "Time taken for 1 epoch 27.233625650405884 sec\n",
            "\n",
            "Epoch 4 Batch 0 Loss 0.5665\n",
            "Epoch 4 Batch 100 Loss 0.6036\n",
            "Epoch 4 Batch 200 Loss 0.6234\n",
            "Epoch 4 Batch 300 Loss 0.6089\n",
            "Epoch 4 Loss 0.6090\n",
            "Time taken for 1 epoch 27.88387703895569 sec\n",
            "\n",
            "Epoch 5 Batch 0 Loss 0.3832\n",
            "Epoch 5 Batch 100 Loss 0.3796\n",
            "Epoch 5 Batch 200 Loss 0.4343\n",
            "Epoch 5 Batch 300 Loss 0.3986\n",
            "Epoch 5 Loss 0.4088\n",
            "Time taken for 1 epoch 27.532286643981934 sec\n",
            "\n",
            "Epoch 6 Batch 0 Loss 0.2692\n",
            "Epoch 6 Batch 100 Loss 0.2588\n",
            "Epoch 6 Batch 200 Loss 0.3022\n",
            "Epoch 6 Batch 300 Loss 0.2798\n",
            "Epoch 6 Loss 0.2850\n",
            "Time taken for 1 epoch 27.681386947631836 sec\n",
            "\n",
            "Epoch 7 Batch 0 Loss 0.2322\n",
            "Epoch 7 Batch 100 Loss 0.2187\n",
            "Epoch 7 Batch 200 Loss 0.1960\n",
            "Epoch 7 Batch 300 Loss 0.2388\n",
            "Epoch 7 Loss 0.2058\n",
            "Time taken for 1 epoch 27.023955583572388 sec\n",
            "\n",
            "Epoch 8 Batch 0 Loss 0.1731\n",
            "Epoch 8 Batch 100 Loss 0.1727\n",
            "Epoch 8 Batch 200 Loss 0.1539\n",
            "Epoch 8 Batch 300 Loss 0.1414\n",
            "Epoch 8 Loss 0.1543\n",
            "Time taken for 1 epoch 27.861055612564087 sec\n",
            "\n",
            "Epoch 9 Batch 0 Loss 0.0984\n",
            "Epoch 9 Batch 100 Loss 0.0959\n",
            "Epoch 9 Batch 200 Loss 0.1354\n",
            "Epoch 9 Batch 300 Loss 0.1294\n",
            "Epoch 9 Loss 0.1206\n",
            "Time taken for 1 epoch 27.110074758529663 sec\n",
            "\n",
            "Epoch 10 Batch 0 Loss 0.0679\n",
            "Epoch 10 Batch 100 Loss 0.0803\n",
            "Epoch 10 Batch 200 Loss 0.1030\n",
            "Epoch 10 Batch 300 Loss 0.1395\n",
            "Epoch 10 Loss 0.1002\n",
            "Time taken for 1 epoch 31.159451484680176 sec\n",
            "\n"
          ]
        }
      ],
      "source": [
        "# Define the number of training epochs.\n",
        "EPOCHS = 10\n",
        "\n",
        "# Loop through training for the specified number of epochs.\n",
        "for epoch in range(EPOCHS):\n",
        "    # Record the start time of the current epoch.\n",
        "    start = time.time()\n",
        "\n",
        "    # Initialize the hidden state of the encoder for the current epoch.\n",
        "    enc_hidden = encoder.initialize_hidden_state()\n",
        "\n",
        "    # Initialize the total loss for the epoch.\n",
        "    total_loss = 0\n",
        "\n",
        "    # Iterate over the batches in the dataset.\n",
        "    for (batch, (inp, targ)) in enumerate(dataset.take(steps_per_epoch)):\n",
        "        # Calculate the loss for the current batch and update the total loss.\n",
        "        batch_loss = train_step(inp, targ, enc_hidden)\n",
        "        total_loss += batch_loss\n",
        "\n",
        "        # Print batch-level training progress every 100 batches.\n",
        "        if batch % 100 == 0:\n",
        "            print('Epoch {} Batch {} Loss {:.4f}'.format(epoch + 1,\n",
        "                                                         batch,\n",
        "                                                         batch_loss.numpy()))\n",
        "\n",
        "    # Save a checkpoint of the model every 2 epochs.\n",
        "    if (epoch + 1) % 2 == 0:\n",
        "        checkpoint.save(file_prefix=checkpoint_prefix)\n",
        "\n",
        "    # Print the average loss for the epoch and the time taken for the epoch.\n",
        "    print('Epoch {} Loss {:.4f}'.format(epoch + 1,\n",
        "                                        total_loss / steps_per_epoch))\n",
        "    print('Time taken for 1 epoch {} sec\\n'.format(time.time() - start))\n"
      ]
    },
    {
      "cell_type": "markdown",
      "metadata": {
        "id": "mU3Ce8M6I3rz"
      },
      "source": [
        "## Translate\n",
        "\n",
        "* The evaluate function is similar to the training loop, except we don't use *teacher forcing* here. The input to the decoder at each time step is its previous predictions along with the hidden state and the encoder output.\n",
        "* Stop predicting when the model predicts the *end token*.\n",
        "* And store the *attention weights for every time step*.\n",
        "\n",
        "Note: The encoder output is calculated only once for one input."
      ]
    },
    {
      "cell_type": "code",
      "execution_count": 54,
      "metadata": {
        "ExecuteTime": {
          "end_time": "2020-05-23T05:04:48.482187Z",
          "start_time": "2020-05-23T05:04:48.473058Z"
        },
        "id": "EbQpyYs13jF_"
      },
      "outputs": [],
      "source": [
        "# Define a function for evaluating a given sentence using the trained model.\n",
        "def evaluate(sentence):\n",
        "    # Initialize an empty attention plot for visualization.\n",
        "    attention_plot = np.zeros((max_length_targ, max_length_inp))\n",
        "\n",
        "    # Preprocess the input sentence.\n",
        "    sentence = preprocess_sentence(sentence)\n",
        "\n",
        "    # Convert the preprocessed sentence into a sequence of word indices.\n",
        "    inputs = [inp_lang.word_index[i] for i in sentence.split(' ')]\n",
        "\n",
        "    # Pad the input sequence to match the maximum input length.\n",
        "    inputs = tf.keras.preprocessing.sequence.pad_sequences([inputs],\n",
        "                                                           maxlen=max_length_inp,\n",
        "                                                           padding='post')\n",
        "    inputs = tf.convert_to_tensor(inputs)\n",
        "\n",
        "    # Initialize an empty result.\n",
        "    result = ''\n",
        "\n",
        "    # Initialize the hidden state for the encoder.\n",
        "    hidden = [tf.zeros((1, units))]\n",
        "\n",
        "    # Encode the input sentence using the encoder.\n",
        "    enc_out, enc_hidden = encoder(inputs, hidden)\n",
        "\n",
        "    # Initialize the decoder's hidden state with the encoder's final hidden state.\n",
        "    dec_hidden = enc_hidden\n",
        "\n",
        "    # Initialize the decoder's input with the '<start>' token.\n",
        "    dec_input = tf.expand_dims([targ_lang.word_index['<start>']], 0)\n",
        "\n",
        "    # Loop over the maximum target sequence length.\n",
        "    for t in range(max_length_targ):\n",
        "        # Generate predictions, decoder hidden state, and attention weights for the current step.\n",
        "        predictions, dec_hidden, attention_weights = decoder(dec_input,\n",
        "                                                             dec_hidden,\n",
        "                                                             enc_out)\n",
        "\n",
        "        # Store the attention weights for visualization.\n",
        "        attention_weights = tf.reshape(attention_weights, (-1, ))\n",
        "        attention_plot[t] = attention_weights.numpy()\n",
        "\n",
        "        # Get the predicted token's index with the highest probability.\n",
        "        predicted_id = tf.argmax(predictions[0]).numpy()\n",
        "\n",
        "        # Add the predicted token to the result.\n",
        "        result += targ_lang.index_word[predicted_id] + ' '\n",
        "\n",
        "        # If the predicted token is '<end>', return the result and attention plot.\n",
        "        if targ_lang.index_word[predicted_id] == '<end>':\n",
        "            return result, sentence, attention_plot\n",
        "\n",
        "        # Set the predicted ID as the next input to the decoder.\n",
        "        dec_input = tf.expand_dims([predicted_id], 0)\n",
        "\n",
        "    # If the maximum target sequence length is reached, return the result and attention plot.\n",
        "    return result, sentence, attention_plot\n"
      ]
    },
    {
      "cell_type": "code",
      "execution_count": 55,
      "metadata": {
        "ExecuteTime": {
          "end_time": "2020-05-23T05:04:48.489446Z",
          "start_time": "2020-05-23T05:04:48.483501Z"
        },
        "id": "s5hQWlbN3jGF"
      },
      "outputs": [],
      "source": [
        "# Define a function for plotting the attention weights.\n",
        "def plot_attention(attention, sentence, predicted_sentence):\n",
        "    # Create a new figure for the attention plot with a specified size.\n",
        "    fig = plt.figure(figsize=(10, 10))\n",
        "\n",
        "    # Add a subplot to the figure.\n",
        "    ax = fig.add_subplot(1, 1, 1)\n",
        "\n",
        "    # Display the attention matrix as an image with the 'viridis' colormap.\n",
        "    ax.matshow(attention, cmap='viridis')\n",
        "\n",
        "    # Define the font properties for the tick labels.\n",
        "    fontdict = {'fontsize': 14}\n",
        "\n",
        "    # Set the tick labels for the x-axis (input sentence).\n",
        "    ax.set_xticklabels([''] + sentence, fontdict=fontdict, rotation=90)\n",
        "\n",
        "    # Set the tick labels for the y-axis (predicted sentence).\n",
        "    ax.set_yticklabels([''] + predicted_sentence, fontdict=fontdict)\n",
        "\n",
        "    # Set major tick locations for both axes.\n",
        "    ax.xaxis.set_major_locator(ticker.MultipleLocator(1))\n",
        "    ax.yaxis.set_major_locator(ticker.MultipleLocator(1))\n",
        "\n",
        "    # Display the plot.\n",
        "    plt.show()\n"
      ]
    },
    {
      "cell_type": "code",
      "execution_count": 57,
      "metadata": {
        "ExecuteTime": {
          "end_time": "2020-05-23T05:04:48.659321Z",
          "start_time": "2020-05-23T05:04:48.654841Z"
        },
        "id": "sl9zUHzg3jGI"
      },
      "outputs": [],
      "source": [
        "# Define a function for translating a sentence using the trained model.\n",
        "def translate(sentence):\n",
        "    # Call the evaluate function to perform translation and obtain attention weights.\n",
        "    result, sentence, attention_plot = evaluate(sentence)\n",
        "\n",
        "    # Print the input sentence and the predicted translation.\n",
        "    print('Input: %s' % (sentence))\n",
        "    print('Predicted translation: {}'.format(result))\n",
        "\n",
        "    # Truncate the attention plot to match the lengths of the input and output sentences.\n",
        "    attention_plot = attention_plot[:len(\n",
        "        result.split(' ')), :len(sentence.split(' '))]\n",
        "\n",
        "    # Call the plot_attention function to visualize the attention weights.\n",
        "    plot_attention(attention_plot, sentence.split(' '), result.split(' '))\n"
      ]
    },
    {
      "cell_type": "markdown",
      "metadata": {
        "id": "n250XbnjOaqP"
      },
      "source": [
        "## Restore the latest checkpoint and test"
      ]
    },
    {
      "cell_type": "code",
      "execution_count": 58,
      "metadata": {
        "ExecuteTime": {
          "end_time": "2020-05-23T05:04:54.348670Z",
          "start_time": "2020-05-23T05:04:50.789053Z"
        },
        "id": "UJpT9D5_OgP6",
        "scrolled": true,
        "colab": {
          "base_uri": "https://localhost:8080/"
        },
        "outputId": "2b36e201-d8d0-48ac-c17a-f93dea797d79"
      },
      "outputs": [
        {
          "output_type": "execute_result",
          "data": {
            "text/plain": [
              "<tensorflow.python.checkpoint.checkpoint.CheckpointLoadStatus at 0x7e38c434c6a0>"
            ]
          },
          "metadata": {},
          "execution_count": 58
        }
      ],
      "source": [
        "# Restore the latest checkpoint from the checkpoint directory.\n",
        "checkpoint.restore(tf.train.latest_checkpoint(checkpoint_dir))"
      ]
    },
    {
      "cell_type": "code",
      "execution_count": 59,
      "metadata": {
        "ExecuteTime": {
          "end_time": "2020-05-23T05:06:45.531706Z",
          "start_time": "2020-05-23T05:06:45.289314Z"
        },
        "id": "WrAM0FDomq3E",
        "colab": {
          "base_uri": "https://localhost:8080/",
          "height": 1000
        },
        "outputId": "0fd858ee-77f7-4b67-f6f5-eab0a2286bd0"
      },
      "outputs": [
        {
          "output_type": "stream",
          "name": "stdout",
          "text": [
            "Input: <start> amarla <end>\n",
            "Predicted translation: give me to be rich here to be rich here to \n"
          ]
        },
        {
          "output_type": "stream",
          "name": "stderr",
          "text": [
            "<ipython-input-55-20db3a42042f>:16: UserWarning: FixedFormatter should only be used together with FixedLocator\n",
            "  ax.set_xticklabels([''] + sentence, fontdict=fontdict, rotation=90)\n",
            "<ipython-input-55-20db3a42042f>:19: UserWarning: FixedFormatter should only be used together with FixedLocator\n",
            "  ax.set_yticklabels([''] + predicted_sentence, fontdict=fontdict)\n"
          ]
        },
        {
          "output_type": "display_data",
          "data": {
            "text/plain": [
              "<Figure size 1000x1000 with 1 Axes>"
            ],
            "image/png": "[encoded data removed]"
          },
          "metadata": {}
        }
      ],
      "source": [
        "translate(u'amarla')"
      ]
    },
    {
      "cell_type": "code",
      "execution_count": 60,
      "metadata": {
        "ExecuteTime": {
          "end_time": "2020-05-21T05:27:45.267653Z",
          "start_time": "2020-05-21T05:27:44.988132Z"
        },
        "id": "zSx2iM36EZQZ",
        "colab": {
          "base_uri": "https://localhost:8080/",
          "height": 1000
        },
        "outputId": "14a747dd-317d-4130-e06e-75a548f65e6e"
      },
      "outputs": [
        {
          "output_type": "stream",
          "name": "stdout",
          "text": [
            "Input: <start> esta es mi vida . <end>\n",
            "Predicted translation: this is my life . <end> \n"
          ]
        },
        {
          "output_type": "stream",
          "name": "stderr",
          "text": [
            "<ipython-input-55-20db3a42042f>:16: UserWarning: FixedFormatter should only be used together with FixedLocator\n",
            "  ax.set_xticklabels([''] + sentence, fontdict=fontdict, rotation=90)\n",
            "<ipython-input-55-20db3a42042f>:19: UserWarning: FixedFormatter should only be used together with FixedLocator\n",
            "  ax.set_yticklabels([''] + predicted_sentence, fontdict=fontdict)\n"
          ]
        },
        {
          "output_type": "display_data",
          "data": {
            "text/plain": [
              "<Figure size 1000x1000 with 1 Axes>"
            ],
            "image/png": "[encoded data removed]"
          },
          "metadata": {}
        }
      ],
      "source": [
        "translate(u'esta es mi vida.')"
      ]
    },
    {
      "cell_type": "code",
      "execution_count": 61,
      "metadata": {
        "ExecuteTime": {
          "end_time": "2020-05-21T05:27:54.433553Z",
          "start_time": "2020-05-21T05:27:54.143976Z"
        },
        "id": "A3LLCx3ZE0Ls",
        "colab": {
          "base_uri": "https://localhost:8080/",
          "height": 1000
        },
        "outputId": "2a7a815e-6623-4c66-dfca-2b35e988ac35"
      },
      "outputs": [
        {
          "output_type": "stream",
          "name": "stdout",
          "text": [
            "Input: <start> ¿ todavia estan en casa ? <end>\n",
            "Predicted translation: are you still at home ? <end> \n"
          ]
        },
        {
          "output_type": "stream",
          "name": "stderr",
          "text": [
            "<ipython-input-55-20db3a42042f>:16: UserWarning: FixedFormatter should only be used together with FixedLocator\n",
            "  ax.set_xticklabels([''] + sentence, fontdict=fontdict, rotation=90)\n",
            "<ipython-input-55-20db3a42042f>:19: UserWarning: FixedFormatter should only be used together with FixedLocator\n",
            "  ax.set_yticklabels([''] + predicted_sentence, fontdict=fontdict)\n"
          ]
        },
        {
          "output_type": "display_data",
          "data": {
            "text/plain": [
              "<Figure size 1000x1000 with 1 Axes>"
            ],
            "image/png": "[encoded data removed]"
          },
          "metadata": {}
        }
      ],
      "source": [
        "translate(u'¿todavia estan en casa?')"
      ]
    },
    {
      "cell_type": "code",
      "execution_count": 62,
      "metadata": {
        "ExecuteTime": {
          "end_time": "2020-05-21T05:28:29.518158Z",
          "start_time": "2020-05-21T05:28:29.246886Z"
        },
        "id": "DUQVLVqUE1YW",
        "colab": {
          "base_uri": "https://localhost:8080/",
          "height": 1000
        },
        "outputId": "bae1701b-cc69-4c14-afd9-d9152e4d27f2"
      },
      "outputs": [
        {
          "output_type": "stream",
          "name": "stdout",
          "text": [
            "Input: <start> trata de averiguarlo . <end>\n",
            "Predicted translation: try to figure it out . <end> \n"
          ]
        },
        {
          "output_type": "stream",
          "name": "stderr",
          "text": [
            "<ipython-input-55-20db3a42042f>:16: UserWarning: FixedFormatter should only be used together with FixedLocator\n",
            "  ax.set_xticklabels([''] + sentence, fontdict=fontdict, rotation=90)\n",
            "<ipython-input-55-20db3a42042f>:19: UserWarning: FixedFormatter should only be used together with FixedLocator\n",
            "  ax.set_yticklabels([''] + predicted_sentence, fontdict=fontdict)\n"
          ]
        },
        {
          "output_type": "display_data",
          "data": {
            "text/plain": [
              "<Figure size 1000x1000 with 1 Axes>"
            ],
            "image/png": "[encoded data removed]"
          },
          "metadata": {}
        }
      ],
      "source": [
        "# wrong translation\n",
        "translate(u'trata de averiguarlo.')"
      ]
    },
    {
      "cell_type": "markdown",
      "metadata": {
        "id": "RTe5P5ioMJwN"
      },
      "source": [
        "## Next steps\n",
        "\n",
        "* [Download a different dataset](http://www.manythings.org/anki/) to experiment with translations, for example, English to German, or English to French.\n",
        "* Experiment with training on a larger dataset, or using more epochs\n"
      ]
    }
  ],
  "metadata": {
    "accelerator": "GPU",
    "colab": {
      "provenance": [],
      "gpuType": "T4"
    },
    "kernelspec": {
      "display_name": "Python 3",
      "name": "python3"
    },
    "language_info": {
      "codemirror_mode": {
        "name": "ipython",
        "version": 3
      },
      "file_extension": ".py",
      "mimetype": "text/x-python",
      "name": "python",
      "nbconvert_exporter": "python",
      "pygments_lexer": "ipython3",
      "version": "3.7.4"
    }
  },
  "nbformat": 4,
  "nbformat_minor": 0
}