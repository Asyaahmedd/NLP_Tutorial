{
 "cells": [
  {
   "cell_type": "markdown",
   "metadata": {
    "slideshow": {
     "slide_type": "slide"
    }
   },
   "source": [
    "# Text Distance\n",
    "\n",
    "Using the text distance helps us determine the lexical similarity of words, for example we can detect simple typos when user write `hose` instead of `house` we can detect that these are similar"
   ]
  },
  {
   "cell_type": "markdown",
   "metadata": {
    "slideshow": {
     "slide_type": "fragment"
    }
   },
   "source": [
    "There are multiple python libraries that helps us use many text distances methods, we will use `jellyfish` for this tutorial\n",
    "\n",
    "\n"
   ]
  },
  {
   "cell_type": "code",
   "execution_count": 1,
   "metadata": {},
   "outputs": [
    {
     "name": "stdout",
     "output_type": "stream",
     "text": [
      "Collecting jellyfish\n",
      "  Downloading https://files.pythonhosted.org/packages/3f/29/56521d8f0acc49149175903ad41b87f0ca392fe56c0fb3bf079fd9912c4f/jellyfish-1.0.0-cp37-none-win_amd64.whl (206kB)\n",
      "Installing collected packages: jellyfish\n",
      "Successfully installed jellyfish-1.0.0\n"
     ]
    }
   ],
   "source": [
    "!pip install jellyfish"
   ]
  },
  {
   "cell_type": "markdown",
   "metadata": {
    "slideshow": {
     "slide_type": "slide"
    }
   },
   "source": [
    "# Levenshtein Distance\n",
    "\n",
    "Levenshtein distance represents the number of insertions, deletions, and substitutions required to change one word to another.\n",
    "\n",
    "For example: `levenshtein_distance('berne', 'born') == 2` representing the transformation of the first `e` to `o` and the deletion of the second `e`.\n"
   ]
  },
  {
   "cell_type": "code",
   "execution_count": 2,
   "metadata": {
    "ExecuteTime": {
     "end_time": "2021-11-07T11:53:11.991055Z",
     "start_time": "2021-11-07T11:53:11.981374Z"
    },
    "slideshow": {
     "slide_type": "fragment"
    }
   },
   "outputs": [
    {
     "data": {
      "text/plain": [
       "2"
      ]
     },
     "execution_count": 2,
     "metadata": {},
     "output_type": "execute_result"
    }
   ],
   "source": [
    "import jellyfish\n",
    "\n",
    "jellyfish.levenshtein_distance('jellyfish', 'smellyfish')"
   ]
  },
  {
   "cell_type": "markdown",
   "metadata": {
    "slideshow": {
     "slide_type": "slide"
    }
   },
   "source": [
    "# Hamming Distance\n",
    "\n",
    "Hamming distance is the measure of the number of characters that differ between two strings.\n",
    "\n",
    "Typically Hamming distance is undefined when strings are of different length, but this implementation considers extra characters as differing. For example hamming_distance('abc', 'abcd') == 1."
   ]
  },
  {
   "cell_type": "code",
   "execution_count": 8,
   "metadata": {
    "ExecuteTime": {
     "end_time": "2021-11-07T11:53:04.498415Z",
     "start_time": "2021-11-07T11:53:04.487195Z"
    },
    "slideshow": {
     "slide_type": "fragment"
    }
   },
   "outputs": [
    {
     "data": {
      "text/plain": [
       "1"
      ]
     },
     "execution_count": 8,
     "metadata": {},
     "output_type": "execute_result"
    }
   ],
   "source": [
    "jellyfish.hamming_distance(\"cat\", \"hat\")"
   ]
  },
  {
   "cell_type": "code",
   "execution_count": 3,
   "metadata": {},
   "outputs": [
    {
     "data": {
      "text/plain": [
       "9"
      ]
     },
     "execution_count": 3,
     "metadata": {},
     "output_type": "execute_result"
    }
   ],
   "source": [
    "jellyfish.hamming_distance('jellyfish', 'smellyfish')"
   ]
  },
  {
   "cell_type": "markdown",
   "metadata": {
    "slideshow": {
     "slide_type": "slide"
    }
   },
   "source": [
    "# Damerau-Levenshtein Distance\n",
    "\n",
    "A modification of Levenshtein distance, Damerau-Levenshtein distance counts transpositions (such as ifsh for fish) as a single edit.\n",
    "\n",
    "Where levenshtein_distance('fish', 'ifsh') == 2 as it would require a deletion and an insertion, though damerau_levenshtein_distance('fish', 'ifsh') == 1 as this counts as a transposition."
   ]
  },
  {
   "cell_type": "code",
   "execution_count": 4,
   "metadata": {
    "ExecuteTime": {
     "end_time": "2021-11-07T12:02:19.200688Z",
     "start_time": "2021-11-07T12:02:19.194955Z"
    },
    "slideshow": {
     "slide_type": "fragment"
    }
   },
   "outputs": [
    {
     "data": {
      "text/plain": [
       "1"
      ]
     },
     "execution_count": 4,
     "metadata": {},
     "output_type": "execute_result"
    }
   ],
   "source": [
    "jellyfish.damerau_levenshtein_distance(u'jellyfish', u'jellyfihs')"
   ]
  },
  {
   "cell_type": "markdown",
   "metadata": {},
   "source": [
    "# which method better ? \n",
    "\n",
    "The choice of which text distance method to use depends on the specific problem I'm  trying to solve and the characteristics of the data. Each of the previous text distance methods (Levenshtein Distance, Hamming Distance, and Damerau-Levenshtein Distance) has its own strengths and limitations.\n",
    "\n",
    "Here's a summary of when each method might be more suitable:\n",
    "\n",
    "1. Levenshtein Distance:\n",
    "\n",
    "• Strengths:\n",
    "\n",
    "Measures the minimum number of edit operations (insertions, deletions, substitutions) to transform one string into another.\n",
    "Useful for measuring the similarity between two strings when the order of characters matters, and when you want to account for various types of edits.\n",
    "\n",
    "• Limitations:\n",
    "\n",
    "Computationally more expensive, especially for longer strings.\n",
    "Not suitable for measuring similarity when transpositions (reversed or swapped characters) are common.\n",
    "\n",
    "2. Hamming Distance:\n",
    "\n",
    "• Strengths:\n",
    "\n",
    "Efficient for comparing strings of the same length.\n",
    "Suitable for situations where strings are expected to have the same length and you want to measure character-level differences.\n",
    "\n",
    "• Limitations:\n",
    "\n",
    "Undefined when strings have different lengths.\n",
    "Not suitable for measuring similarity when strings can have different lengths or require more complex transformations.\n",
    "\n",
    "3. Damerau-Levenshtein Distance:\n",
    "\n",
    "• Strengths:\n",
    "\n",
    "An extension of Levenshtein distance that also considers transpositions as a single edit.\n",
    "Useful for measuring similarity when transpositions are likely to occur, such as in spelling corrections.\n",
    "\n",
    "• Limitations:\n",
    "\n",
    "Slightly more computationally expensive than standard Levenshtein distance.\n",
    "\n",
    "If we're working with DNA sequences where insertions, deletions, and substitutions are common, Levenshtein distance may be suitable.\n",
    "\n",
    "If we're working with fixed-length strings and you want to measure character-level differences, Hamming distance might be a good choice.\n",
    "\n",
    "If we're dealing with typos in text or need to account for transpositions, Damerau-Levenshtein distance is a good option.\n",
    "\n",
    "In practice, we may need to experiment with different distance metrics and choose the one that best fits your particular problem and dataset."
   ]
  }
 ],
 "metadata": {
  "celltoolbar": "Slideshow",
  "kernelspec": {
   "display_name": "Python 3",
   "language": "python",
   "name": "python3"
  },
  "language_info": {
   "codemirror_mode": {
    "name": "ipython",
    "version": 3
   },
   "file_extension": ".py",
   "mimetype": "text/x-python",
   "name": "python",
   "nbconvert_exporter": "python",
   "pygments_lexer": "ipython3",
   "version": "3.7.4"
  }
 },
 "nbformat": 4,
 "nbformat_minor": 2
}
